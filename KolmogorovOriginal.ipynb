{
 "cells": [
  {
   "cell_type": "code",
   "execution_count": 1,
   "id": "d2624604",
   "metadata": {},
   "outputs": [],
   "source": [
    "# from matplotlib.animation import FuncAnimation\n",
    "# from animation import Anim\n",
    "# from matplotlib.interactivePlot import InteractivePlot as Plot\n",
    "from matplotlib import pyplot as plt\n",
    "from matplotlib import cm\n",
    "import numpy as np\n",
    "import h5py\n",
    "import glob\n",
    "import os"
   ]
  },
  {
   "cell_type": "code",
   "execution_count": 15,
   "id": "54e52356",
   "metadata": {},
   "outputs": [],
   "source": []
  },
  {
   "cell_type": "code",
   "execution_count": 3,
   "id": "02058110",
   "metadata": {},
   "outputs": [],
   "source": [
    "# nx =fs_IS[0]['Domain'].attrs['nx']\n",
    "# NN = nx //2 \n",
    "# print(NN)"
   ]
  },
  {
   "cell_type": "code",
   "execution_count": 4,
   "id": "e0536bef",
   "metadata": {},
   "outputs": [
    {
     "data": {
      "text/plain": [
       "<KeysViewHDF5 ['Ng', 'Nx', 'Ny', 'Nz', 'dt', 'dx', 'dy', 'dz', 'endTime', 'nx', 'ny', 'nz', 'xmax', 'xmin', 'ymax', 'ymin', 'zmax', 'zmin']>"
      ]
     },
     "execution_count": 4,
     "metadata": {},
     "output_type": "execute_result"
    }
   ],
   "source": [
    "fs_IS[0]['Domain'].attrs.keys()"
   ]
  },
  {
   "cell_type": "code",
   "execution_count": 5,
   "id": "86ec9338",
   "metadata": {},
   "outputs": [],
   "source": [
    "def getFourierTrans(intPlot, u):\n",
    "    \"\"\"\n",
    "    Returns the 1D discrete fourier transform of the variable u along the x-direction\n",
    "    ready for the power spectrum method.\n",
    "    Parameters\n",
    "    ----------\n",
    "    intPlot : object\n",
    "        interactivePlot object containing all the simulation data, normally the final instance\n",
    "    u : ndarray\n",
    "        Two dimensional array of the variable we want the power spectrum of\n",
    "    Returns\n",
    "    -------\n",
    "    uhat : array (N,)\n",
    "        Fourier transform of u\n",
    "    \"\"\"\n",
    "    nx, ny = intPlot['Domain'].attrs['nx'][0], intPlot['Domain'].attrs['ny'][0]\n",
    "    NN = nx // 2\n",
    "    uhat = np.zeros((NN, ny), dtype=np.complex_)\n",
    "\n",
    "    for k in range(NN):\n",
    "        for y in range(ny):\n",
    "            # Sum over all x adding to uhat\n",
    "            for i in range(nx):\n",
    "                uhat[k, y] += u[i, y] * np.exp(-(2*np.pi*1j*k*i)/nx)\n",
    "\n",
    "    return uhat / nx"
   ]
  },
  {
   "cell_type": "code",
   "execution_count": 6,
   "id": "52b73e1f",
   "metadata": {},
   "outputs": [],
   "source": [
    "# getFourierTrans(fs_IS[0], fs_IS[0]['Primitive/v1'])"
   ]
  },
  {
   "cell_type": "code",
   "execution_count": 7,
   "id": "44b18179",
   "metadata": {},
   "outputs": [],
   "source": [
    "def getPowerSpectrumSq(intPlot, u):\n",
    "    \"\"\"\n",
    "    Returns the integrated power spectrum of the variable u, up to the Nyquist frequency = nx/2\n",
    "    Parameters\n",
    "    ----------\n",
    "    intPlot : object\n",
    "        interactivePlot object containing all the simulation data, normally the final instance\n",
    "    u : ndarray\n",
    "        Two dimensional array of the variable we want the power spectrum of\n",
    "    \"\"\"\n",
    "    NN = intPlot['Domain'].attrs['nx'][0] // 2\n",
    "    dy = intPlot['Domain'].attrs['dy'][0]\n",
    "    uhat = getFourierTrans(intPlot, u)\n",
    "    P = np.zeros(NN)\n",
    "\n",
    "    for k in range(NN):\n",
    "        for j in range(intPlot['Domain'].attrs['ny'][0]):\n",
    "            P[k] += (np.absolute(uhat[k, j])**2) * dy\n",
    "\n",
    "    P = P / np.sum(P)\n",
    "    return P"
   ]
  },
  {
   "cell_type": "code",
   "execution_count": 8,
   "id": "ec1759c9",
   "metadata": {},
   "outputs": [],
   "source": [
    "def GetKESF(frame):\n",
    "    \"\"\"\n",
    "    Retrieves and computes the kinetic energy density for each frame in a single fluid animation.\n",
    "    Parameters\n",
    "    ----------\n",
    "    anim : object\n",
    "        animation class containing all user def variables\n",
    "    frame : Array\n",
    "        Frame from the animation class containing all user def variables at the time we want\n",
    "    \"\"\"\n",
    "    vx = frame['Primitive/v1'][:]\n",
    "    vy = frame['Primitive/v2'][:]\n",
    "    rho = frame['Primitive/rho']\n",
    "    vsq = vx**2 + vy**2\n",
    "    W = 1 / np.sqrt(1 - vsq)\n",
    "    KE = rho * W * (W-1) ## this expression ??\n",
    "\n",
    "    return KE"
   ]
  },
  {
   "cell_type": "code",
   "execution_count": 42,
   "id": "507a6e58",
   "metadata": {},
   "outputs": [],
   "source": [
    "def trim(a,b,listt):\n",
    "    return listt[a:b]"
   ]
  },
  {
   "cell_type": "code",
   "execution_count": 43,
   "id": "7cd93025",
   "metadata": {},
   "outputs": [],
   "source": [
    "# GetKESF(fs_IS[0])"
   ]
  },
  {
   "cell_type": "code",
   "execution_count": 45,
   "id": "a89b16a4",
   "metadata": {},
   "outputs": [
    {
     "name": "stdout",
     "output_type": "stream",
     "text": [
      "[[<HDF5 file \"dp_800x800x0_0.hdf5\" (mode r)>, <HDF5 file \"dp_800x800x0_1.hdf5\" (mode r)>, <HDF5 file \"dp_800x800x0_2.hdf5\" (mode r)>, <HDF5 file \"dp_800x800x0_3.hdf5\" (mode r)>, <HDF5 file \"dp_800x800x0_4.hdf5\" (mode r)>, <HDF5 file \"dp_800x800x0_5.hdf5\" (mode r)>, <HDF5 file \"dp_800x800x0_6.hdf5\" (mode r)>, <HDF5 file \"dp_800x800x0_7.hdf5\" (mode r)>, <HDF5 file \"dp_800x800x0_8.hdf5\" (mode r)>, <HDF5 file \"dp_800x800x0_9.hdf5\" (mode r)>, <HDF5 file \"dp_800x800x0_10.hdf5\" (mode r)>], [<HDF5 file \"dp_800x800x0_0.hdf5\" (mode r)>, <HDF5 file \"dp_800x800x0_1.hdf5\" (mode r)>, <HDF5 file \"dp_800x800x0_2.hdf5\" (mode r)>, <HDF5 file \"dp_800x800x0_3.hdf5\" (mode r)>, <HDF5 file \"dp_800x800x0_4.hdf5\" (mode r)>, <HDF5 file \"dp_800x800x0_5.hdf5\" (mode r)>, <HDF5 file \"dp_800x800x0_6.hdf5\" (mode r)>, <HDF5 file \"dp_800x800x0_7.hdf5\" (mode r)>, <HDF5 file \"dp_800x800x0_8.hdf5\" (mode r)>, <HDF5 file \"dp_800x800x0_9.hdf5\" (mode r)>, <HDF5 file \"dp_800x800x0_10.hdf5\" (mode r)>]] ['ISCE Ideal', 'ISCE Shear'] ['ISCE_Id', 'ISCE_Sh']\n"
     ]
    }
   ],
   "source": [
    "fs_IS_Id = []\n",
    "fs_IS_Sh = []\n",
    "\n",
    "fs_ISCE_Id = []\n",
    "fs_ISCE_Sh = []\n",
    "\n",
    "fs_BDNK_Id = []\n",
    "fs_BDNK_Sh = []\n",
    "\n",
    "n_files = 11\n",
    "for n in range(n_files):\n",
    "#     fs_IS.append(h5py.File(f'IS/KH/Ideal/cfl04/dp_1200x1200x0_{n}.hdf5', 'r'))\n",
    "#     fs_IS.append(h5py.File(f'IS/KH/Ideal/cfl04/dp_200x200x0_{n}.hdf5', 'r'))\n",
    "#     fs_IS_Id.append(h5py.File(f'IS/KH/Ideal/dp_800x800x0_{n}.hdf5', 'r'))\n",
    "#     fs_IS_Sh.append(h5py.File(f'IS/KH/Shear/tau5em1eta5em3/dp_200x200x0_{n}.hdf5', 'r'))\n",
    "#     fs_IS_Sh.append(h5py.File(f'IS/KH/Shear/dp_800x800x0_{n}.hdf5', 'r'))\n",
    "   \n",
    "    fs_ISCE_Id.append(h5py.File(f'ISCE/KH/Ideal/dp_800x800x0_{n}.hdf5', 'r'))\n",
    "#     fs_ISCE_Sh.append(h5py.File(f'ISCE/KH/Shear/tau5em2eta5em3/dp_200x200x0_{n}.hdf5', 'r'))\n",
    "    fs_ISCE_Sh.append(h5py.File(f'ISCE/KH/Shear/dp_800x800x0_{n}.hdf5', 'r'))\n",
    "\n",
    "#     fs_BDNK_Id.append(h5py.File(f'BDNK/KH/Ideal/dp_800x800x0_{n}.hdf5', 'r'))\n",
    "#     fs_BDNK_Sh.append(h5py.File(f'BDNK/KH/eta0_5em4/dp_200x200x0_{n}.hdf5', 'r'))\n",
    "\n",
    "fss = [fs_IS_Id, fs_IS_Sh, fs_ISCE_Id, fs_ISCE_Sh, fs_BDNK_Id, fs_BDNK_Sh]\n",
    "labels = ['IS Ideal','IS Shear','ISCE Ideal','ISCE Shear','BDNK Ideal','BDNK Shear']\n",
    "names = ['IS_Id','IS_Sh','ISCE_Id','ISCE_Sh','BDNK_Id','BDNK_Sh']\n",
    "fss, labels, names = trim(2,4,fss), trim(2,4,labels), trim(2,4,names)\n",
    "print(fss,labels,names)"
   ]
  },
  {
   "cell_type": "code",
   "execution_count": null,
   "id": "a4299237",
   "metadata": {},
   "outputs": [
    {
     "data": {
      "image/png": "[encoded data removed]",
      "text/plain": [
       "<Figure size 432x216 with 1 Axes>"
      ]
     },
     "metadata": {
      "needs_background": "light"
     },
     "output_type": "display_data"
    }
   ],
   "source": [
    "for fs, label, name in zip(fss, labels, names):\n",
    "    Ideal = fs[-1]\n",
    "    #idealT = Ideal.t.index(min(Ideal.t, key=lambda x : abs(x-3.0)))\n",
    "    Nideal = fs[-1]['Domain'].attrs['nx'][0] // 2\n",
    "    KESpecIdeal = getPowerSpectrumSq(Ideal, GetKESF(Ideal))\n",
    "\n",
    "\n",
    "    ### Model Power Spectrum\n",
    "\n",
    "    fig, axs = plt.subplots(1, 1, sharex=True)\n",
    "    fig.set_size_inches(6,3)\n",
    "    fig.tight_layout()\n",
    "\n",
    "    # Kinetic energy density power\n",
    "    axs.loglog(np.arange(1, Nideal+1), np.arange(1, Nideal+1)*KESpecIdeal, label=label)# label=r'$IS \\ Ideal$')\n",
    "    #     axs.loglog(np.arange(1, Nresistive+1), np.arange(1, Nresistive+1)*KESpecResistive, label=r'$Single \\ Fluid \\ Resistive$')\n",
    "    #     axs.loglog(np.arange(1, NtwoFluid+1), np.arange(1, NtwoFluid+1)*KESpecTwoFluid, label=r'$Two \\ Fluid \\ Resistive$')\n",
    "    axs.set_ylabel(r\"$k|P_{T}(k)|^2$\", {'fontsize':'large'})\n",
    "    axs.set_xlabel(r'$k$')\n",
    "    # axs.loglog([4, 94.868], [5*10**-3, 5*10**(-3 - 1.5*5/3)], 'k--')\n",
    "    axs.loglog([4, 94], [5*10**-3, 5*10**(-3 - 1.5*5/3)], 'k--')\n",
    "    axs.annotate(r'$k^{-5/3}$', xy=(20, 0.01), fontsize=15)\n",
    "    axs.set_xlim([1, Nideal])\n",
    "    axs.legend(loc='lower left')\n",
    "\n",
    "\n",
    "    # plt.savefig('ConfirmationReportPlots/KH/KolmoEnergyIdeal.eps', format='eps', dpi=1200, bbox_inches='tight')\n",
    "    plt.savefig('ConfirmationReportPlots/KH/KolmoEnergy_'+name+'.pdf', dpi=1200, bbox_inches='tight')\n",
    "\n",
    "    plt.show()"
   ]
  },
  {
   "cell_type": "code",
   "execution_count": null,
   "id": "903c9cfd",
   "metadata": {},
   "outputs": [],
   "source": []
  }
 ],
 "metadata": {
  "kernelspec": {
   "display_name": "Python 3",
   "language": "python",
   "name": "python3"
  },
  "language_info": {
   "codemirror_mode": {
    "name": "ipython",
    "version": 3
   },
   "file_extension": ".py",
   "mimetype": "text/x-python",
   "name": "python",
   "nbconvert_exporter": "python",
   "pygments_lexer": "ipython3",
   "version": "3.8.8"
  }
 },
 "nbformat": 4,
 "nbformat_minor": 5
}
