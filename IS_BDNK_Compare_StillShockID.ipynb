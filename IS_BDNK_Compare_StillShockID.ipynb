{
 "cells": [
  {
   "cell_type": "code",
   "execution_count": 1,
   "metadata": {},
   "outputs": [],
   "source": [
    "import numpy as np\n",
    "import matplotlib.pyplot as plt\n",
    "import h5py\n",
    "import glob\n",
    "import os"
   ]
  },
  {
   "cell_type": "code",
   "execution_count": 2,
   "metadata": {},
   "outputs": [],
   "source": [
    "%matplotlib inline"
   ]
  },
  {
   "cell_type": "markdown",
   "metadata": {},
   "source": [
    "# 1d case"
   ]
  },
  {
   "cell_type": "code",
   "execution_count": 3,
   "metadata": {},
   "outputs": [],
   "source": [
    "fs_IS_ID = []\n",
    "fs_IS = []\n",
    "fs_BDNK = []\n",
    "#files = sorted(glob.glob('1d/data*hdf5'), key=os.path.getmtime)\n",
    "#for f in files:\n",
    "for n in range(6):\n",
    "    fs_IS_ID.append(h5py.File(f'IS/Shocktube1DPara/ideal/data_serial_TIx_{n}.hdf5', 'r'))\n",
    "    fs_IS.append(h5py.File(f'IS/Shocktube1DPara/bulk/data_serial_TIx_{n}.hdf5', 'r'))\n",
    "    fs_BDNK.append(h5py.File(f'BDNK/Shocktube1D/bulk/data_serial_TIx_{n}.hdf5', 'r'))"
   ]
  },
  {
   "cell_type": "code",
   "execution_count": 4,
   "metadata": {},
   "outputs": [],
   "source": [
    "fss = [fs_IS_ID, fs_IS, fs_BDNK]\n",
    "names = ['IS Ideal','IS Bulk','BDNK Bulk']\n",
    "# fss = [fs_IS_ID, fs_BDNK]\n",
    "# names = ['IS Ideal','BDNK Bulk']"
   ]
  },
  {
   "cell_type": "code",
   "execution_count": 5,
   "metadata": {},
   "outputs": [],
   "source": [
    "# for fs in fss:\n",
    "#     print(fs[0]['Auxiliary/pi11'])"
   ]
  },
  {
   "cell_type": "code",
   "execution_count": 6,
   "metadata": {},
   "outputs": [
    {
     "name": "stdout",
     "output_type": "stream",
     "text": [
      "<KeysViewHDF5 ['Ng', 'Nx', 'Ny', 'Nz', 'dt', 'dx', 'dy', 'dz', 'endTime', 'nx', 'ny', 'nz', 'xmax', 'xmin', 'ymax', 'ymin', 'zmax', 'zmin']>\n",
      "b'v1,v2,v3,p,rho,n,q1,q2,q3,Pi,pi11,pi12,pi13,pi22,pi23,pi33,'\n",
      "<KeysViewHDF5 ['Ng', 'Nx', 'Ny', 'Nz', 'dt', 'dx', 'dy', 'dz', 'endTime', 'nx', 'ny', 'nz', 'xmax', 'xmin', 'ymax', 'ymin', 'zmax', 'zmin']>\n",
      "b'v1,v2,v3,p,rho,n,'\n"
     ]
    }
   ],
   "source": [
    "for fs in fss:\n",
    "    print(fs[0]['Domain'].attrs.keys())\n",
    "    print(fs[0]['Primitive'].attrs['varOrder'])\n",
    "#print(fss[0][0]['Primitive/v1'][:])\n"
   ]
  },
  {
   "cell_type": "code",
   "execution_count": 7,
   "metadata": {},
   "outputs": [
    {
     "name": "stdout",
     "output_type": "stream",
     "text": [
      "[1.e-15]\n",
      "[1.e-15]\n"
     ]
    }
   ],
   "source": [
    "for fs in fss:\n",
    "    print(fs[0]['Optional'].attrs['zeta'])"
   ]
  },
  {
   "cell_type": "code",
   "execution_count": 8,
   "metadata": {},
   "outputs": [
    {
     "name": "stdout",
     "output_type": "stream",
     "text": [
      "A is of order:\n"
     ]
    },
    {
     "ename": "KeyError",
     "evalue": "\"Can't open attribute (can't locate attribute: 'tau_epsilon')\"",
     "output_type": "error",
     "traceback": [
      "\u001b[1;31m---------------------------------------------------------------------------\u001b[0m",
      "\u001b[1;31mKeyError\u001b[0m                                  Traceback (most recent call last)",
      "\u001b[1;32m<ipython-input-8-af3407a20c96>\u001b[0m in \u001b[0;36m<module>\u001b[1;34m\u001b[0m\n\u001b[0;32m      1\u001b[0m \u001b[0mprint\u001b[0m\u001b[1;33m(\u001b[0m\u001b[1;34m\"A is of order:\"\u001b[0m\u001b[1;33m)\u001b[0m\u001b[1;33m\u001b[0m\u001b[1;33m\u001b[0m\u001b[0m\n\u001b[1;32m----> 2\u001b[1;33m \u001b[0mprint\u001b[0m\u001b[1;33m(\u001b[0m\u001b[0mfs_BDNK\u001b[0m\u001b[1;33m[\u001b[0m\u001b[1;36m0\u001b[0m\u001b[1;33m]\u001b[0m\u001b[1;33m[\u001b[0m\u001b[1;34m'Optional'\u001b[0m\u001b[1;33m]\u001b[0m\u001b[1;33m.\u001b[0m\u001b[0mattrs\u001b[0m\u001b[1;33m[\u001b[0m\u001b[1;34m'tau_epsilon'\u001b[0m\u001b[1;33m]\u001b[0m\u001b[1;33m)\u001b[0m\u001b[1;33m\u001b[0m\u001b[1;33m\u001b[0m\u001b[0m\n\u001b[0m\u001b[0;32m      3\u001b[0m \u001b[0mprint\u001b[0m\u001b[1;33m(\u001b[0m\u001b[1;34m\"Pi is of order:\"\u001b[0m\u001b[1;33m)\u001b[0m\u001b[1;33m\u001b[0m\u001b[1;33m\u001b[0m\u001b[0m\n\u001b[0;32m      4\u001b[0m \u001b[0mprint\u001b[0m\u001b[1;33m(\u001b[0m\u001b[0mfs_BDNK\u001b[0m\u001b[1;33m[\u001b[0m\u001b[1;36m0\u001b[0m\u001b[1;33m]\u001b[0m\u001b[1;33m[\u001b[0m\u001b[1;34m'Optional'\u001b[0m\u001b[1;33m]\u001b[0m\u001b[1;33m.\u001b[0m\u001b[0mattrs\u001b[0m\u001b[1;33m[\u001b[0m\u001b[1;34m'zeta'\u001b[0m\u001b[1;33m]\u001b[0m\u001b[1;33m,\u001b[0m\u001b[0mfs_BDNK\u001b[0m\u001b[1;33m[\u001b[0m\u001b[1;36m0\u001b[0m\u001b[1;33m]\u001b[0m\u001b[1;33m[\u001b[0m\u001b[1;34m'Optional'\u001b[0m\u001b[1;33m]\u001b[0m\u001b[1;33m.\u001b[0m\u001b[0mattrs\u001b[0m\u001b[1;33m[\u001b[0m\u001b[1;34m'tau_Pi'\u001b[0m\u001b[1;33m]\u001b[0m\u001b[1;33m)\u001b[0m\u001b[1;33m\u001b[0m\u001b[1;33m\u001b[0m\u001b[0m\n\u001b[0;32m      5\u001b[0m \u001b[0mprint\u001b[0m\u001b[1;33m(\u001b[0m\u001b[1;34m\"q is of order:\"\u001b[0m\u001b[1;33m)\u001b[0m\u001b[1;33m\u001b[0m\u001b[1;33m\u001b[0m\u001b[0m\n",
      "\u001b[1;32mh5py\\_objects.pyx\u001b[0m in \u001b[0;36mh5py._objects.with_phil.wrapper\u001b[1;34m()\u001b[0m\n",
      "\u001b[1;32mh5py\\_objects.pyx\u001b[0m in \u001b[0;36mh5py._objects.with_phil.wrapper\u001b[1;34m()\u001b[0m\n",
      "\u001b[1;32m~\\Anaconda3\\lib\\site-packages\\h5py\\_hl\\attrs.py\u001b[0m in \u001b[0;36m__getitem__\u001b[1;34m(self, name)\u001b[0m\n\u001b[0;32m     58\u001b[0m         \"\"\" Read the value of an attribute.\n\u001b[0;32m     59\u001b[0m         \"\"\"\n\u001b[1;32m---> 60\u001b[1;33m         \u001b[0mattr\u001b[0m \u001b[1;33m=\u001b[0m \u001b[0mh5a\u001b[0m\u001b[1;33m.\u001b[0m\u001b[0mopen\u001b[0m\u001b[1;33m(\u001b[0m\u001b[0mself\u001b[0m\u001b[1;33m.\u001b[0m\u001b[0m_id\u001b[0m\u001b[1;33m,\u001b[0m \u001b[0mself\u001b[0m\u001b[1;33m.\u001b[0m\u001b[0m_e\u001b[0m\u001b[1;33m(\u001b[0m\u001b[0mname\u001b[0m\u001b[1;33m)\u001b[0m\u001b[1;33m)\u001b[0m\u001b[1;33m\u001b[0m\u001b[1;33m\u001b[0m\u001b[0m\n\u001b[0m\u001b[0;32m     61\u001b[0m \u001b[1;33m\u001b[0m\u001b[0m\n\u001b[0;32m     62\u001b[0m         \u001b[1;32mif\u001b[0m \u001b[0mis_empty_dataspace\u001b[0m\u001b[1;33m(\u001b[0m\u001b[0mattr\u001b[0m\u001b[1;33m)\u001b[0m\u001b[1;33m:\u001b[0m\u001b[1;33m\u001b[0m\u001b[1;33m\u001b[0m\u001b[0m\n",
      "\u001b[1;32mh5py\\_objects.pyx\u001b[0m in \u001b[0;36mh5py._objects.with_phil.wrapper\u001b[1;34m()\u001b[0m\n",
      "\u001b[1;32mh5py\\_objects.pyx\u001b[0m in \u001b[0;36mh5py._objects.with_phil.wrapper\u001b[1;34m()\u001b[0m\n",
      "\u001b[1;32mh5py\\h5a.pyx\u001b[0m in \u001b[0;36mh5py.h5a.open\u001b[1;34m()\u001b[0m\n",
      "\u001b[1;31mKeyError\u001b[0m: \"Can't open attribute (can't locate attribute: 'tau_epsilon')\""
     ]
    }
   ],
   "source": [
    "print(\"A is of order:\")\n",
    "print(fs_BDNK[0]['Optional'].attrs['tau_epsilon'])\n",
    "print(\"Pi is of order:\")\n",
    "print(fs_BDNK[0]['Optional'].attrs['zeta'],fs_BDNK[0]['Optional'].attrs['tau_Pi'])\n",
    "print(\"q is of order:\")\n",
    "print(fs_BDNK[0]['Optional'].attrs['tau_q'],fs_BDNK[0]['Optional'].attrs['kappa'])\n",
    "print(\"pi is of order:\")\n",
    "print(fs_BDNK[0]['Optional'].attrs['eta'])"
   ]
  },
  {
   "cell_type": "code",
   "execution_count": null,
   "metadata": {},
   "outputs": [],
   "source": [
    "# eta = fs[0]['Optional'].attrs['eta'][0]\n",
    "# tau_pi = fs[0]['Optional'].attrs['tau_pi'][0]\n",
    "# print(f\"Dissipation strength {eta}, \"\n",
    "#       f\"relaxation time {tau_pi}, \"\n",
    "#       f\"timestep {fs[0]['Domain'].attrs['dt'][0]}\")"
   ]
  },
  {
   "cell_type": "code",
   "execution_count": null,
   "metadata": {},
   "outputs": [],
   "source": [
    "for fs in fss:\n",
    "    print(fs[-1].attrs['t'])"
   ]
  },
  {
   "cell_type": "code",
   "execution_count": null,
   "metadata": {},
   "outputs": [],
   "source": [
    "#fs_ISCE[-1]['Auxiliary/pi11NS'][:]"
   ]
  },
  {
   "cell_type": "code",
   "execution_count": null,
   "metadata": {},
   "outputs": [],
   "source": [
    "#nslice=fs_IS[0]['Domain'].attrs['ny'][0]//2\n",
    "for quant in['D','Tau','S1']:\n",
    "    plt.figure()\n",
    "    for fs in fss:\n",
    "        for f in fs:\n",
    "            #plt.plot(f['Domain/x'], f['Conserved/'+quant][:,nslice,nslice],label=rf\"$t=${f.attrs['t'][0]:.2e}\")\n",
    "            plt.plot(f['Domain/x'], f['Conserved/'+quant][:],label=rf\"$t=${f.attrs['t'][0]:.2e}\")\n",
    "#         for f in fs_ISCE:\n",
    "#             #plt.plot(f['Domain/x'], f['Conserved/'+quant][:,nslice,nslice],label=rf\"$t=${f.attrs['t'][0]:.2e}\")\n",
    "#             plt.plot(f['Domain/x'], f['Conserved/'+quant][:])#,label=rf\"$t=${f.attrs['t'][0]:.2e}\")\n",
    "    plt.title(quant)\n",
    "    #plt.legend()\n",
    "    plt.savefig(\"ComparePlots/Cons_\"+quant+\".pdf\")\n",
    "    plt.show()\n"
   ]
  },
  {
   "cell_type": "code",
   "execution_count": null,
   "metadata": {},
   "outputs": [],
   "source": [
    "for quant in['D','Tau','S1']:\n",
    "    plt.figure()\n",
    "    for n in range(len(fs_IS)):\n",
    "        #plt.plot(f['Domain/x'], f['Conserved/'+quant][:,nslice,nslice],label=rf\"$t=${f.attrs['t'][0]:.2e}\")\n",
    "        plt.plot(fs_IS[n]['Domain/x'][:], (fs_IS[n]['Conserved/'+quant][:] - fs_BDNK[n]['Conserved/'+quant][:])/fs_IS[n]['Conserved/'+quant][:],label=rf\"$t=${f.attrs['t'][0]:.2e}\")\n",
    "        plt.title(quant)\n",
    "    plt.legend()\n",
    "    plt.savefig(\"ComparePlots/ConsRelDiff_\"+quant+\".pdf\")\n",
    "    plt.show()"
   ]
  },
  {
   "cell_type": "code",
   "execution_count": null,
   "metadata": {},
   "outputs": [],
   "source": [
    "for quant in['n','rho','p','v1','v2']:\n",
    "    plt.figure()\n",
    "    for fs, name in zip(fss, names):\n",
    "        plt.plot(fs[-1]['Domain/x'], fs[-1]['Primitive/'+quant][:],label=name)#=rf\"$t=${f.attrs['t'][0]:.2e}\")\n",
    "    plt.title(quant)\n",
    "    plt.legend()\n",
    "    plt.savefig(\"ComparePlots/Prims_\"+quant+\".pdf\")\n"
   ]
  },
  {
   "cell_type": "code",
   "execution_count": null,
   "metadata": {},
   "outputs": [],
   "source": [
    "for quant in ['Pi','q1', 'q2', 'pi11', 'pi12']:\n",
    "    plt.figure()\n",
    "    plt.plot(fss[0][-1]['Domain/x'], fss[0][-1]['Primitive/'+quant][:],label=names[0])\n",
    "    plt.plot(fss[1][-1]['Domain/x'], fss[1][-1]['Primitive/'+quant][:],label=names[1])\n",
    "    plt.plot(fss[2][-1]['Domain/x'], fss[2][-1]['Auxiliary/'+quant][:],label=names[2])\n",
    "    plt.title(quant+' , '+quant+'NS')\n",
    "    plt.legend()\n",
    "    plt.savefig(\"ComparePlots/Prims_\"+quant+\".pdf\")"
   ]
  },
  {
   "cell_type": "code",
   "execution_count": null,
   "metadata": {},
   "outputs": [],
   "source": [
    "for quant in ['Theta']:\n",
    "    plt.figure()\n",
    "    plt.plot(fss[1][-1]['Domain/x'], fss[1][-1]['Auxiliary/'+quant][:],label=quant)\n",
    "    plt.plot(fss[2][-1]['Domain/x'], fss[2][-1]['Auxiliary/'+quant][:],label=quant)\n",
    "    plt.title(quant)\n",
    "    plt.legend()\n",
    "print(np.allclose(fss[2][-1]['Auxiliary/Theta'][:],0))\n",
    "print(fss[2][-1]['Auxiliary/Theta'][:])"
   ]
  },
  {
   "cell_type": "code",
   "execution_count": null,
   "metadata": {},
   "outputs": [],
   "source": [
    "for quant in['n','rho','p','v1','v2']:\n",
    "    plt.figure()\n",
    "    #for f in fs:\n",
    "    fIS = fs_IS[-1]\n",
    "    fISCE = fs_BDNK[-1]\n",
    "    plt.plot(fIS['Domain/x'], (fIS['Primitive/'+quant][:] - fISCE['Primitive/'+quant][:])/fIS['Primitive/'+quant][:],label=rf\"$t=${f.attrs['t'][0]:.2e}\")\n",
    "    plt.title(quant)\n",
    "    plt.legend()\n",
    "    plt.savefig(\"ComparePlots/PrimsRelDiff_\"+quant+\".pdf\")\n",
    "    plt.show()\n",
    "    "
   ]
  },
  {
   "cell_type": "code",
   "execution_count": null,
   "metadata": {},
   "outputs": [],
   "source": [
    "# for quant in['Pi','q1', 'q2', 'pi11', 'pi12']:\n",
    "#     plt.figure()\n",
    "#     #for f in fs:\n",
    "#     fIS = fs_IS[-1]\n",
    "#     fISCE = fs_ISCE[-1]\n",
    "#     plt.plot(fIS['Domain/x'], (fIS['Primitive/'+quant][:] - fISCE['Auxiliary/'+quant+'NS'][:])/fIS['Primitive/'+quant][:],label=rf\"$t=${f.attrs['t'][0]:.2e}\")\n",
    "#     plt.title(quant+' - '+quant+'NS / '+quant)\n",
    "#     plt.legend()\n",
    "#     plt.savefig(\"ComparePlots/PrimsDiff_\"+quant+\".pdf\")\n",
    "#     plt.show()\n",
    "    "
   ]
  },
  {
   "cell_type": "code",
   "execution_count": null,
   "metadata": {},
   "outputs": [],
   "source": [
    "for quant in['Pi','q1', 'q2', 'pi11', 'pi12']:\n",
    "    plt.figure()\n",
    "    #for f in fs:\n",
    "    fIS = fs_IS[-1]\n",
    "    fISCE = fs_BDNK[-1]\n",
    "    plt.plot(fIS['Domain/x'], (fIS['Primitive/'+quant][:] - fISCE['Auxiliary/'+quant][:]),label=rf\"$t=${f.attrs['t'][0]:.2e}\")\n",
    "    plt.title(quant+' - '+quant+'NS')\n",
    "    plt.legend()\n",
    "    plt.savefig(\"ComparePlots/PrimsAbsDiff_\"+quant+\".pdf\")\n",
    "    plt.show()\n",
    "    "
   ]
  },
  {
   "cell_type": "code",
   "execution_count": null,
   "metadata": {},
   "outputs": [],
   "source": [
    "for quant in ['T','a1']:\n",
    "    plt.figure()\n",
    "    for f in fs_IS:\n",
    "        #plt.plot(f['Domain/x'], f['Auxiliary/'+quant][:,nslice,nslice],label=rf\"$t=${f.attrs['t'][0]:.2e}\")\n",
    "        plt.plot(f['Domain/x'], f['Auxiliary/'+quant][:],label=rf\"$t=${f.attrs['t'][0]:.2e}\")\n",
    "    for f in fs_BDNK:\n",
    "        #plt.plot(f['Domain/x'], f['Auxiliary/'+quant][:,nslice,nslice],label=rf\"$t=${f.attrs['t'][0]:.2e}\")\n",
    "        plt.plot(f['Domain/x'], f['Auxiliary/'+quant][:],label=rf\"$t=${f.attrs['t'][0]:.2e}\")\n",
    "    plt.title(quant)\n",
    "    plt.legend()\n",
    "    plt.savefig(\"ComparePlots/Aux_\"+quant+\".pdf\")\n",
    "    plt.show()\n"
   ]
  },
  {
   "cell_type": "code",
   "execution_count": null,
   "metadata": {},
   "outputs": [],
   "source": []
  },
  {
   "cell_type": "code",
   "execution_count": null,
   "metadata": {},
   "outputs": [],
   "source": []
  },
  {
   "cell_type": "code",
   "execution_count": null,
   "metadata": {},
   "outputs": [],
   "source": []
  },
  {
   "cell_type": "code",
   "execution_count": null,
   "metadata": {},
   "outputs": [],
   "source": []
  },
  {
   "cell_type": "code",
   "execution_count": null,
   "metadata": {},
   "outputs": [],
   "source": []
  }
 ],
 "metadata": {
  "kernelspec": {
   "display_name": "Python 3",
   "language": "python",
   "name": "python3"
  },
  "language_info": {
   "codemirror_mode": {
    "name": "ipython",
    "version": 3
   },
   "file_extension": ".py",
   "mimetype": "text/x-python",
   "name": "python",
   "nbconvert_exporter": "python",
   "pygments_lexer": "ipython3",
   "version": "3.8.8"
  }
 },
 "nbformat": 4,
 "nbformat_minor": 4
}
