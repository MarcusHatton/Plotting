{
 "cells": [
  {
   "cell_type": "code",
   "execution_count": 1,
   "id": "a2c4d5c8",
   "metadata": {},
   "outputs": [],
   "source": [
    "import matplotlib.pyplot as plt\n",
    "import numpy as np\n",
    "import h5py"
   ]
  },
  {
   "cell_type": "code",
   "execution_count": 2,
   "id": "fb1e69fb",
   "metadata": {},
   "outputs": [
    {
     "data": {
      "text/plain": [
       "[<HDF5 file \"data_serial_TIx_0.hdf5\" (mode r)>,\n",
       " <HDF5 file \"data_serial_TIx_1.hdf5\" (mode r)>,\n",
       " <HDF5 file \"data_serial_TIx_2.hdf5\" (mode r)>,\n",
       " <HDF5 file \"data_serial_TIx_3.hdf5\" (mode r)>,\n",
       " <HDF5 file \"data_serial_TIx_4.hdf5\" (mode r)>,\n",
       " <HDF5 file \"data_serial_TIx_5.hdf5\" (mode r)>]"
      ]
     },
     "execution_count": 2,
     "metadata": {},
     "output_type": "execute_result"
    }
   ],
   "source": [
    "fs = []\n",
    "for n in range(6):\n",
    "  fs.append(h5py.File('data_serial_TIx_'+str(n)+'.hdf5','r'))\n",
    "fs"
   ]
  },
  {
   "cell_type": "code",
   "execution_count": 3,
   "id": "8648fa76",
   "metadata": {},
   "outputs": [
    {
     "name": "stdout",
     "output_type": "stream",
     "text": [
      "<HDF5 dataset \"v1\": shape (400,), type \"<f8\">\n"
     ]
    },
    {
     "data": {
      "image/png": "[encoded data removed]",
      "text/plain": [
       "<Figure size 432x288 with 1 Axes>"
      ]
     },
     "metadata": {
      "needs_background": "light"
     },
     "output_type": "display_data"
    }
   ],
   "source": [
    "print(fs[-1]['Primitive/v1'])\n",
    "fs[-1]['Primitive/v1'][:]\n",
    "plt.plot(fs[-1]['Domain/x'][:], fs[-1]['Primitive/v1'][:])\n",
    "plt.show()\n"
   ]
  },
  {
   "cell_type": "code",
   "execution_count": null,
   "id": "83a062b8",
   "metadata": {},
   "outputs": [],
   "source": []
  }
 ],
 "metadata": {
  "kernelspec": {
   "display_name": "Python 3",
   "language": "python",
   "name": "python3"
  },
  "language_info": {
   "codemirror_mode": {
    "name": "ipython",
    "version": 3
   },
   "file_extension": ".py",
   "mimetype": "text/x-python",
   "name": "python",
   "nbconvert_exporter": "python",
   "pygments_lexer": "ipython3",
   "version": "3.8.8"
  }
 },
 "nbformat": 4,
 "nbformat_minor": 5
}
