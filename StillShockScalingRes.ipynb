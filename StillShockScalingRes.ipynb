{
 "cells": [
  {
   "cell_type": "code",
   "execution_count": 1,
   "metadata": {},
   "outputs": [],
   "source": [
    "import numpy as np\n",
    "import matplotlib.pyplot as plt\n",
    "import h5py\n",
    "import glob\n",
    "import os"
   ]
  },
  {
   "cell_type": "code",
   "execution_count": 2,
   "metadata": {},
   "outputs": [],
   "source": [
    "%matplotlib inline"
   ]
  },
  {
   "cell_type": "markdown",
   "metadata": {},
   "source": [
    "# 1d case"
   ]
  },
  {
   "cell_type": "code",
   "execution_count": 3,
   "metadata": {},
   "outputs": [
    {
     "ename": "OSError",
     "evalue": "Unable to open file (unable to open file: name = 'IS/StillShock/Bulk/scaling/100/data_serial_TIx_0.hdf5', errno = 2, error message = 'No such file or directory', flags = 0, o_flags = 0)",
     "output_type": "error",
     "traceback": [
      "\u001b[1;31m---------------------------------------------------------------------------\u001b[0m",
      "\u001b[1;31mOSError\u001b[0m                                   Traceback (most recent call last)",
      "\u001b[1;32m<ipython-input-3-6de966c83cab>\u001b[0m in \u001b[0;36m<module>\u001b[1;34m\u001b[0m\n\u001b[0;32m     26\u001b[0m \u001b[1;33m\u001b[0m\u001b[0m\n\u001b[0;32m     27\u001b[0m \u001b[1;32mfor\u001b[0m \u001b[0mn\u001b[0m \u001b[1;32min\u001b[0m \u001b[0mrange\u001b[0m\u001b[1;33m(\u001b[0m\u001b[1;36m6\u001b[0m\u001b[1;33m)\u001b[0m\u001b[1;33m:\u001b[0m\u001b[1;33m\u001b[0m\u001b[1;33m\u001b[0m\u001b[0m\n\u001b[1;32m---> 28\u001b[1;33m     \u001b[0mfs_IS_100\u001b[0m\u001b[1;33m.\u001b[0m\u001b[0mappend\u001b[0m\u001b[1;33m(\u001b[0m\u001b[0mh5py\u001b[0m\u001b[1;33m.\u001b[0m\u001b[0mFile\u001b[0m\u001b[1;33m(\u001b[0m\u001b[1;34mf'IS/StillShock/Bulk/scaling/100/data_serial_TIx_{n}.hdf5'\u001b[0m\u001b[1;33m,\u001b[0m \u001b[1;34m'r'\u001b[0m\u001b[1;33m)\u001b[0m\u001b[1;33m)\u001b[0m\u001b[1;33m\u001b[0m\u001b[1;33m\u001b[0m\u001b[0m\n\u001b[0m\u001b[0;32m     29\u001b[0m     \u001b[0mfs_ISCE_100\u001b[0m\u001b[1;33m.\u001b[0m\u001b[0mappend\u001b[0m\u001b[1;33m(\u001b[0m\u001b[0mh5py\u001b[0m\u001b[1;33m.\u001b[0m\u001b[0mFile\u001b[0m\u001b[1;33m(\u001b[0m\u001b[1;34mf'ISCE/StillShock/Bulk/scaling/100/data_serial_TIx_{n}.hdf5'\u001b[0m\u001b[1;33m,\u001b[0m \u001b[1;34m'r'\u001b[0m\u001b[1;33m)\u001b[0m\u001b[1;33m)\u001b[0m\u001b[1;33m\u001b[0m\u001b[1;33m\u001b[0m\u001b[0m\n\u001b[0;32m     30\u001b[0m     \u001b[0mfs_ID_100\u001b[0m\u001b[1;33m.\u001b[0m\u001b[0mappend\u001b[0m\u001b[1;33m(\u001b[0m\u001b[0mh5py\u001b[0m\u001b[1;33m.\u001b[0m\u001b[0mFile\u001b[0m\u001b[1;33m(\u001b[0m\u001b[1;34mf'IS/StillShock/Ideal/scaling/100/data_serial_TIx_{n}.hdf5'\u001b[0m\u001b[1;33m,\u001b[0m \u001b[1;34m'r'\u001b[0m\u001b[1;33m)\u001b[0m\u001b[1;33m)\u001b[0m\u001b[1;33m\u001b[0m\u001b[1;33m\u001b[0m\u001b[0m\n",
      "\u001b[1;32mD:\\Users\\marcus\\anaconda3\\lib\\site-packages\\h5py\\_hl\\files.py\u001b[0m in \u001b[0;36m__init__\u001b[1;34m(self, name, mode, driver, libver, userblock_size, swmr, rdcc_nslots, rdcc_nbytes, rdcc_w0, track_order, **kwds)\u001b[0m\n\u001b[0;32m    404\u001b[0m             \u001b[1;32mwith\u001b[0m \u001b[0mphil\u001b[0m\u001b[1;33m:\u001b[0m\u001b[1;33m\u001b[0m\u001b[1;33m\u001b[0m\u001b[0m\n\u001b[0;32m    405\u001b[0m                 \u001b[0mfapl\u001b[0m \u001b[1;33m=\u001b[0m \u001b[0mmake_fapl\u001b[0m\u001b[1;33m(\u001b[0m\u001b[0mdriver\u001b[0m\u001b[1;33m,\u001b[0m \u001b[0mlibver\u001b[0m\u001b[1;33m,\u001b[0m \u001b[0mrdcc_nslots\u001b[0m\u001b[1;33m,\u001b[0m \u001b[0mrdcc_nbytes\u001b[0m\u001b[1;33m,\u001b[0m \u001b[0mrdcc_w0\u001b[0m\u001b[1;33m,\u001b[0m \u001b[1;33m**\u001b[0m\u001b[0mkwds\u001b[0m\u001b[1;33m)\u001b[0m\u001b[1;33m\u001b[0m\u001b[1;33m\u001b[0m\u001b[0m\n\u001b[1;32m--> 406\u001b[1;33m                 fid = make_fid(name, mode, userblock_size,\n\u001b[0m\u001b[0;32m    407\u001b[0m                                \u001b[0mfapl\u001b[0m\u001b[1;33m,\u001b[0m \u001b[0mfcpl\u001b[0m\u001b[1;33m=\u001b[0m\u001b[0mmake_fcpl\u001b[0m\u001b[1;33m(\u001b[0m\u001b[0mtrack_order\u001b[0m\u001b[1;33m=\u001b[0m\u001b[0mtrack_order\u001b[0m\u001b[1;33m)\u001b[0m\u001b[1;33m,\u001b[0m\u001b[1;33m\u001b[0m\u001b[1;33m\u001b[0m\u001b[0m\n\u001b[0;32m    408\u001b[0m                                swmr=swmr)\n",
      "\u001b[1;32mD:\\Users\\marcus\\anaconda3\\lib\\site-packages\\h5py\\_hl\\files.py\u001b[0m in \u001b[0;36mmake_fid\u001b[1;34m(name, mode, userblock_size, fapl, fcpl, swmr)\u001b[0m\n\u001b[0;32m    171\u001b[0m         \u001b[1;32mif\u001b[0m \u001b[0mswmr\u001b[0m \u001b[1;32mand\u001b[0m \u001b[0mswmr_support\u001b[0m\u001b[1;33m:\u001b[0m\u001b[1;33m\u001b[0m\u001b[1;33m\u001b[0m\u001b[0m\n\u001b[0;32m    172\u001b[0m             \u001b[0mflags\u001b[0m \u001b[1;33m|=\u001b[0m \u001b[0mh5f\u001b[0m\u001b[1;33m.\u001b[0m\u001b[0mACC_SWMR_READ\u001b[0m\u001b[1;33m\u001b[0m\u001b[1;33m\u001b[0m\u001b[0m\n\u001b[1;32m--> 173\u001b[1;33m         \u001b[0mfid\u001b[0m \u001b[1;33m=\u001b[0m \u001b[0mh5f\u001b[0m\u001b[1;33m.\u001b[0m\u001b[0mopen\u001b[0m\u001b[1;33m(\u001b[0m\u001b[0mname\u001b[0m\u001b[1;33m,\u001b[0m \u001b[0mflags\u001b[0m\u001b[1;33m,\u001b[0m \u001b[0mfapl\u001b[0m\u001b[1;33m=\u001b[0m\u001b[0mfapl\u001b[0m\u001b[1;33m)\u001b[0m\u001b[1;33m\u001b[0m\u001b[1;33m\u001b[0m\u001b[0m\n\u001b[0m\u001b[0;32m    174\u001b[0m     \u001b[1;32melif\u001b[0m \u001b[0mmode\u001b[0m \u001b[1;33m==\u001b[0m \u001b[1;34m'r+'\u001b[0m\u001b[1;33m:\u001b[0m\u001b[1;33m\u001b[0m\u001b[1;33m\u001b[0m\u001b[0m\n\u001b[0;32m    175\u001b[0m         \u001b[0mfid\u001b[0m \u001b[1;33m=\u001b[0m \u001b[0mh5f\u001b[0m\u001b[1;33m.\u001b[0m\u001b[0mopen\u001b[0m\u001b[1;33m(\u001b[0m\u001b[0mname\u001b[0m\u001b[1;33m,\u001b[0m \u001b[0mh5f\u001b[0m\u001b[1;33m.\u001b[0m\u001b[0mACC_RDWR\u001b[0m\u001b[1;33m,\u001b[0m \u001b[0mfapl\u001b[0m\u001b[1;33m=\u001b[0m\u001b[0mfapl\u001b[0m\u001b[1;33m)\u001b[0m\u001b[1;33m\u001b[0m\u001b[1;33m\u001b[0m\u001b[0m\n",
      "\u001b[1;32mh5py\\_objects.pyx\u001b[0m in \u001b[0;36mh5py._objects.with_phil.wrapper\u001b[1;34m()\u001b[0m\n",
      "\u001b[1;32mh5py\\_objects.pyx\u001b[0m in \u001b[0;36mh5py._objects.with_phil.wrapper\u001b[1;34m()\u001b[0m\n",
      "\u001b[1;32mh5py\\h5f.pyx\u001b[0m in \u001b[0;36mh5py.h5f.open\u001b[1;34m()\u001b[0m\n",
      "\u001b[1;31mOSError\u001b[0m: Unable to open file (unable to open file: name = 'IS/StillShock/Bulk/scaling/100/data_serial_TIx_0.hdf5', errno = 2, error message = 'No such file or directory', flags = 0, o_flags = 0)"
     ]
    }
   ],
   "source": [
    "# How many? -1 == all\n",
    "resses = 3\n",
    "sizes = [100, 200, 400, 800, 1600, 3200]\n",
    "sizes = sizes[0:resses]\n",
    "\n",
    "fs_ID_100 = []\n",
    "fs_ID_200 = []\n",
    "fs_ID_400 = []\n",
    "fs_ID_800 = []\n",
    "fs_ID_1600 = []\n",
    "fs_ID_3200 = []\n",
    "\n",
    "fs_IS_100 = []\n",
    "fs_IS_200 = []\n",
    "fs_IS_400 = []\n",
    "fs_IS_800 = []\n",
    "fs_IS_1600 = []\n",
    "fs_IS_3200 = []\n",
    "\n",
    "fs_ISCE_100 = []\n",
    "fs_ISCE_200 = []\n",
    "fs_ISCE_400 = []\n",
    "fs_ISCE_800 = []\n",
    "fs_ISCE_1600 = []\n",
    "fs_ISCE_3200 = []\n",
    "\n",
    "for n in range(6):\n",
    "    fs_IS_100.append(h5py.File(f'IS/StillShock/Bulk/scaling/100/data_serial_TIx_{n}.hdf5', 'r'))\n",
    "    fs_ISCE_100.append(h5py.File(f'ISCE/StillShock/Bulk/scaling/100/data_serial_TIx_{n}.hdf5', 'r'))\n",
    "    fs_ID_100.append(h5py.File(f'IS/StillShock/Ideal/scaling/100/data_serial_TIx_{n}.hdf5', 'r'))\n",
    "    \n",
    "    fs_IS_200.append(h5py.File(f'IS/StillShock/Bulk/scaling/200/data_serial_TIx_{n}.hdf5', 'r'))\n",
    "    fs_ISCE_200.append(h5py.File(f'ISCE/StillShock/Bulk/scaling/200/data_serial_TIx_{n}.hdf5', 'r'))  \n",
    "    fs_ID_200.append(h5py.File(f'IS/StillShock/Ideal/scaling/200/data_serial_TIx_{n}.hdf5', 'r'))\n",
    "\n",
    "    fs_IS_400.append(h5py.File(f'IS/StillShock/Bulk/scaling/400/data_serial_TIx_{n}.hdf5', 'r'))\n",
    "    fs_ISCE_400.append(h5py.File(f'ISCE/StillShock/Bulk/scaling/400/data_serial_TIx_{n}.hdf5', 'r'))\n",
    "    fs_ID_400.append(h5py.File(f'IS/StillShock/Ideal/scaling/400/data_serial_TIx_{n}.hdf5', 'r'))\n",
    "\n",
    "#     fs_IS_800.append(h5py.File(f'IS/StillShock/Bulk/scaling/800/data_serial_TIx_{n}.hdf5', 'r'))\n",
    "#     fs_ISCE_800.append(h5py.File(f'ISCE/StillShock/Bulk/scaling/800/data_serial_TIx_{n}.hdf5', 'r'))    \n",
    "#     fs_ID_800.append(h5py.File(f'IS/StillShock/Ideal/scaling/800/data_serial_TIx_{n}.hdf5', 'r'))\n",
    "\n",
    "#     fs_IS_1600.append(h5py.File(f'IS/StillShock/Bulk/scaling/1600/data_serial_TIx_{n}.hdf5', 'r'))\n",
    "#     fs_ISCE_1600.append(h5py.File(f'ISCE/StillShock/Bulk/scaling/1600/data_serial_TIx_{n}.hdf5', 'r'))\n",
    "#     fs_ID_1600.append(h5py.File(f'IS/StillShock/Ideal/scaling/1600/data_serial_TIx_{n}.hdf5', 'r'))\n",
    "\n",
    "#     fs_IS_3200.append(h5py.File(f'IS/StillShock/Bulk/scaling/3200/data_serial_TIx_{n}.hdf5', 'r'))\n",
    "#     fs_ISCE_3200.append(h5py.File(f'ISCE/StillShock/Bulk/scaling/3200/data_serial_TIx_{n}.hdf5', 'r'))\n",
    "#     fs_ID_3200.append(h5py.File(f'IS/StillShock/Ideal/scaling/3200/data_serial_TIx_{n}.hdf5', 'r'))\n",
    "    \n",
    "# for p in range(len(fss_IS)-1):\n",
    "#     for n in range(6):\n",
    "#         fss_IS[p+1] = h5py.File(f'IS/StillShock/Bulk/scaling/'+str(100*2**p)+f'/data_serial_TIx_{n}.hdf5', 'r')\n",
    "#         fss_ISCE[p+1] = h5py.File(f'ISCE/StillShock/Bulk/scaling/'+str(100*2**p)+f'/data_serial_TIx_{n}.hdf5', 'r')\n",
    "   \n",
    "fss_IS = [fs_IS_100, fs_IS_200, fs_IS_400, fs_IS_800, fs_IS_1600, fs_IS_3200]\n",
    "fss_IS = fss_IS[0:resses]\n",
    "\n",
    "fss_ISCE = [fs_ISCE_100, fs_ISCE_200, fs_ISCE_400, fs_ISCE_800, fs_ISCE_1600, fs_ISCE_3200]\n",
    "fss_ISCE = fss_ISCE[0:resses]\n",
    "\n",
    "fss_ID = [fs_ID_100, fs_ID_200, fs_ID_400, fs_ID_800, fs_ID_1600, fs_ID_3200]\n",
    "fss_ID = fss_ID[0:resses]\n",
    "\n",
    "fss = [fss_IS, fss_ISCE, fss_ID]\n",
    "print(fss[0][-1])"
   ]
  },
  {
   "cell_type": "code",
   "execution_count": null,
   "metadata": {},
   "outputs": [],
   "source": [
    "fssIS, fssISCE = fss[0], fss[1]\n",
    "for fsIS, fsISCE in zip(fssIS, fssISCE):\n",
    "    print(fsIS[0]['Primitive/pi11'].shape)\n",
    "    print(fsISCE[0]['Primitive/p'].shape)"
   ]
  },
  {
   "cell_type": "code",
   "execution_count": null,
   "metadata": {},
   "outputs": [],
   "source": [
    "# eta = fs_IS[0]['Optional'].attrs['eta'][0]\n",
    "# tau_pi = fs_IS[0]['Optional'].attrs['tau_pi'][0]\n",
    "# print(f\"Dissipation strength {eta}, \"\n",
    "#       f\"relaxation time {tau_pi}, \"\n",
    "#       f\"timestep {fs_IS[0]['Domain'].attrs['dt'][0]}\")"
   ]
  },
  {
   "cell_type": "code",
   "execution_count": null,
   "metadata": {},
   "outputs": [],
   "source": [
    "# eta = fs_ISCE[0]['Optional'].attrs['eta'][0]\n",
    "# tau_pi = fs_ISCE[0]['Optional'].attrs['tau_pi'][0]\n",
    "# print(f\"Dissipation strength {eta}, \"\n",
    "#       f\"relaxation time {tau_pi}, \"\n",
    "#       f\"timestep {fs_ISCE[0]['Domain'].attrs['dt'][0]}\")"
   ]
  },
  {
   "cell_type": "code",
   "execution_count": null,
   "metadata": {},
   "outputs": [],
   "source": [
    "print(\"IS: \\n\")\n",
    "for fs in fss[0]:\n",
    "    zeta = fs[0]['Optional'].attrs['zeta'][0]\n",
    "    tau_Pi = fs[0]['Optional'].attrs['tau_Pi'][0]\n",
    "    print(f\"Dissipation strength {zeta}, \"\n",
    "          f\"relaxation time {tau_Pi}, \"\n",
    "          f\"timestep {fs[0]['Domain'].attrs['dt'][0]}\")\n",
    "\n",
    "print(\"ISCE: \\n\")\n",
    "for fs in fss[1]:\n",
    "    zeta = fs[0]['Optional'].attrs['zeta'][0]\n",
    "    tau_Pi = fs[0]['Optional'].attrs['tau_Pi'][0]\n",
    "    print(f\"Dissipation strength {zeta}, \"\n",
    "          f\"relaxation time {tau_Pi}, \"\n",
    "          f\"timestep {fs[0]['Domain'].attrs['dt'][0]}\")"
   ]
  },
  {
   "cell_type": "code",
   "execution_count": null,
   "metadata": {},
   "outputs": [],
   "source": [
    "print(\"IS: \\n\")\n",
    "for fs in fss[0]:\n",
    "    eta = fs[0]['Optional'].attrs['eta'][0]\n",
    "    tau_pi = fs[0]['Optional'].attrs['tau_pi'][0]\n",
    "    print(f\"Dissipation strength {eta}, \"\n",
    "          f\"relaxation time {tau_pi}, \"\n",
    "          f\"timestep {fs[0]['Domain'].attrs['dt'][0]}\")\n",
    "\n",
    "print(\"ISCE: \\n\")\n",
    "for fs in fss[1]:\n",
    "    eta = fs[0]['Optional'].attrs['eta'][0]\n",
    "    tau_pi = fs[0]['Optional'].attrs['tau_pi'][0]\n",
    "    print(f\"Dissipation strength {eta}, \"\n",
    "          f\"relaxation time {tau_pi}, \"\n",
    "          f\"timestep {fs[0]['Domain'].attrs['dt'][0]}\")"
   ]
  },
  {
   "cell_type": "code",
   "execution_count": null,
   "metadata": {},
   "outputs": [],
   "source": [
    "for fs in fss[0]:\n",
    "    print(fs[-1].attrs['t'])\n",
    "for fs in fss[1]:\n",
    "    print(fs[-1].attrs['t'])"
   ]
  },
  {
   "cell_type": "code",
   "execution_count": null,
   "metadata": {},
   "outputs": [],
   "source": [
    "#nslice=fs_IS[0]['Domain'].attrs['ny'][0]//2\n",
    "  \n",
    "for quant in['D','Tau','S1']:\n",
    "    fig, axes = plt.subplots(1,3)\n",
    "    for axis, fssISISCE in zip(axes, fss):\n",
    "        for fs in fssISISCE:\n",
    "            axis.plot(fs[-1]['Domain/x'], fs[-1]['Conserved/'+quant][:])#,label=rf\"$t=${f.attrs['t'][0]:.2e}\")\n",
    "            plt.title(quant)\n",
    "        #plt.legend()\n",
    "    plt.savefig(\"ComparePlots/Cons_\"+quant+\".pdf\")\n",
    "    plt.show()\n"
   ]
  },
  {
   "cell_type": "code",
   "execution_count": null,
   "metadata": {},
   "outputs": [],
   "source": [
    "# for quant in['D','Tau','S1']:\n",
    "#     plt.figure()\n",
    "#     for n in range(len(fs_IS)):\n",
    "#         #plt.plot(f['Domain/x'], f['Conserved/'+quant][:,nslice,nslice],label=rf\"$t=${f.attrs['t'][0]:.2e}\")\n",
    "#         plt.plot(fs_IS[n]['Domain/x'], (fs_IS[n]['Conserved/'+quant][:] - fs_ISCE[n]['Conserved/'+quant][:])/fs_IS[n]['Conserved/'+quant][:],label=rf\"$t=${f.attrs['t'][0]:.2e}\")\n",
    "#         plt.title(quant)\n",
    "#     plt.legend()\n",
    "#     plt.savefig(\"ComparePlots/ConsRelDiff_\"+quant+\".pdf\")\n",
    "#     plt.show()"
   ]
  },
  {
   "cell_type": "code",
   "execution_count": null,
   "metadata": {},
   "outputs": [],
   "source": [
    "print(\"INITIAL DATA\")\n",
    "for quant in['n','rho','p','v1','v2']:\n",
    "    fig, axes = plt.subplots(1,3)\n",
    "    for axis, fssISISCE in zip(axes, fss):\n",
    "        for fs in fssISISCE:\n",
    "            axis.plot(fs[0]['Domain/x'], fs[0]['Primitive/'+quant][:])#=rf\"$t=${f.attrs['t'][0]:.2e}\")\n",
    "            plt.title(quant)\n",
    "    #plt.legend()\n",
    "    plt.show()\n",
    "    plt.savefig(\"ComparePlots/Prims_\"+quant+\".pdf\")\n"
   ]
  },
  {
   "cell_type": "code",
   "execution_count": null,
   "metadata": {},
   "outputs": [],
   "source": [
    "for quant in['n','rho','p','v1','v2']:\n",
    "    fig, axes = plt.subplots(1,3)\n",
    "    for axis, fssISISCE in zip(axes, fss):\n",
    "        for fs in fssISISCE:\n",
    "            axis.plot(fs[-1]['Domain/x'], fs[-1]['Primitive/'+quant][:])\n",
    "        plt.title(quant)\n",
    "    #plt.legend()\n",
    "    \n",
    "    plt.savefig(\"ComparePlots/Prims_\"+quant+\".pdf\")\n"
   ]
  },
  {
   "cell_type": "code",
   "execution_count": null,
   "metadata": {},
   "outputs": [],
   "source": [
    "for quant in['n','rho','p','v1','v2']:\n",
    "    plt.figure()\n",
    "    plt.plot(fss[0][-1][-1]['Domain/x'], fss[0][-1][-1]['Primitive/'+quant][:])\n",
    "    plt.plot(fss[1][-1][-1]['Domain/x'], fss[1][-1][-1]['Primitive/'+quant][:])\n"
   ]
  },
  {
   "cell_type": "code",
   "execution_count": null,
   "metadata": {},
   "outputs": [],
   "source": [
    "for quant in ['Pi','q1', 'q2', 'pi11', 'pi12']:\n",
    "    fig, axes = plt.subplots(1,2)\n",
    "    axis = axes[0]\n",
    "    for fsIS in fss_IS:\n",
    "        for fIS in fsIS:\n",
    "            axis.plot(fIS['Domain/x'], fIS['Primitive/'+quant][:],label='IS')#=rf\"$t=${f.attrs['t'][0]:.2e}\")\n",
    "    axis = axes[1]\n",
    "    for fsISCE in fss_ISCE:\n",
    "        for fISCE in fsISCE:\n",
    "            axis.plot(fISCE['Domain/x'], fISCE['Auxiliary/'+quant+'NS'][:],label='ISCE')#=rf\"$t=${f.attrs['t'][0]:.2e}\")\n",
    "    plt.title(quant+' , '+quant+'NS')\n",
    "    #plt.legend()\n",
    "    plt.savefig(\"ComparePlots/Prims_\"+quant+\".pdf\")"
   ]
  },
  {
   "cell_type": "code",
   "execution_count": null,
   "metadata": {},
   "outputs": [],
   "source": [
    "lims = [0,1]\n",
    "plt.figure()\n",
    "for quant in['n','rho','p','v1','v2']:\n",
    "    for fsIS, fsISCE in zip(fss_IS, fss_ISCE):\n",
    "        nsl = int(lims[0]*fsIS[0]['Primitive/pi11'].shape[0])\n",
    "        nsu = int(lims[1]*fsIS[0]['Primitive/pi11'].shape[0])\n",
    "        plt.plot(fsIS[0]['Domain/x'][nsl:nsu], fsIS[-1]['Primitive/'+quant][nsl:nsu] - fsISCE[-1]['Primitive/'+quant][nsl:nsu])\n",
    "        #plt.plot(fsIS[0]['Domain/x'], fsIS[1]['Primitive/'+quant][:] - fsISCE[1]['Primitive/'+quant][:])\n",
    "        plt.title(quant)\n",
    "    plt.savefig(\"ComparePlots/DiffAcrossDomain_\"+quant+\".pdf\")\n",
    "    plt.show()\n",
    "    "
   ]
  },
  {
   "cell_type": "code",
   "execution_count": null,
   "metadata": {},
   "outputs": [],
   "source": [
    "diffs = []\n",
    "plt.figure()\n",
    "for quant in['n','rho','p','v1','v2']:\n",
    "    for fsIS, fsISCE, size in zip(fss_IS, fss_ISCE, sizes):\n",
    "        nslice_lower = int(lims[0]*fsIS[0]['Primitive/pi11'].shape[0])\n",
    "        nslice_upper = int(lims[1]*fsIS[0]['Primitive/pi11'].shape[0])\n",
    "#         diffs.append(np.sum(np.linalg.norm(abs(fsIS[-1]['Primitive/'+quant][nslice_lower:nslice_upper] \\\n",
    "#                                    - fsISCE[-1]['Primitive/'+quant][nslice_lower:nslice_upper]),1)/size))\n",
    "        diffs.append(np.sum(np.linalg.norm(abs(fsIS[-1]['Primitive/'+quant][nslice_lower:nslice_upper] \\\n",
    "                                   - fsISCE[-1]['Primitive/'+quant][nslice_lower:nslice_upper]),2)/np.sqrt(size)))\n",
    "#         diffs.append(np.sum(np.linalg.norm(abs(fsIS[-1]['Primitive/'+quant][nslice_lower:nslice_upper] \\\n",
    "#                                    - fsISCE[-1]['Primitive/'+quant][nslice_lower:nslice_upper]),np.inf)))\n",
    "    plt.plot(sizes, diffs)\n",
    "    slope, intercept = np.polyfit(sizes, diffs, 1)\n",
    "    print(slope, intercept)\n",
    "    #plt.plot(sizes, intercept + slope*np.array(sizes))\n",
    "    #plt.plot(sizes, diffs)\n",
    "    plt.title(quant)\n",
    "    plt.savefig(\"ComparePlots/DiffScaling_\"+quant+\".pdf\")\n",
    "    plt.show()\n",
    "    diffs.clear()\n",
    "\n",
    "# for quant in['n','rho','p','v1','v2']:\n",
    "#     for fsIS, fsISCE, size in zip(fss_IS, fss_ISCE, sizes):\n",
    "#         print(size, np.sum(np.abs(fsIS[-1]['Primitive/'+quant][:] - fsISCE[-1]['Primitive/'+quant][:])))\n",
    "#         plt.plot(size, np.sum(np.abs(fsIS[-1]['Primitive/'+quant][:] - fsISCE[-1]['Primitive/'+quant][:])))\n",
    "#     plt.title(quant)\n",
    "#     plt.show()\n",
    "#     #plt.legend()\n",
    "#     plt.savefig(\"ComparePlots/Prims_\"+quant+\".pdf\")"
   ]
  },
  {
   "cell_type": "code",
   "execution_count": null,
   "metadata": {},
   "outputs": [],
   "source": [
    "for quant in['n','rho','p','v1','v2']:\n",
    "    plt.figure()\n",
    "    #for f in fs:\n",
    "    fIS = fs_IS[-1]\n",
    "    fISCE = fs_ISCE[-1]\n",
    "    plt.plot(fIS['Domain/x'], (fIS['Primitive/'+quant][:] - fISCE['Primitive/'+quant][:])/fIS['Primitive/'+quant][:],label=rf\"$t=${f.attrs['t'][0]:.2e}\")\n",
    "    plt.title(quant)\n",
    "    plt.legend()\n",
    "    plt.savefig(\"ComparePlots/PrimsRelDiff_\"+quant+\".pdf\")\n",
    "    plt.show()\n",
    "    "
   ]
  },
  {
   "cell_type": "code",
   "execution_count": null,
   "metadata": {},
   "outputs": [],
   "source": [
    "# for quant in['Pi','q1', 'q2', 'pi11', 'pi12']:\n",
    "#     plt.figure()\n",
    "#     #for f in fs:\n",
    "#     fIS = fs_IS[-1]\n",
    "#     fISCE = fs_ISCE[-1]\n",
    "#     plt.plot(fIS['Domain/x'], (fIS['Primitive/'+quant][:] - fISCE['Auxiliary/'+quant+'NS'][:])/fIS['Primitive/'+quant][:],label=rf\"$t=${f.attrs['t'][0]:.2e}\")\n",
    "#     plt.title(quant+' - '+quant+'NS / '+quant)\n",
    "#     plt.legend()\n",
    "#     plt.savefig(\"ComparePlots/PrimsDiff_\"+quant+\".pdf\")\n",
    "#     plt.show()\n",
    "    "
   ]
  },
  {
   "cell_type": "code",
   "execution_count": null,
   "metadata": {},
   "outputs": [],
   "source": [
    "for quant in['Pi','q1', 'q2', 'pi11', 'pi12']:\n",
    "    plt.figure()\n",
    "    #for f in fs:\n",
    "    fIS = fs_IS[-1]\n",
    "    fISCE = fs_ISCE[-1]\n",
    "    plt.plot(fIS['Domain/x'], (fIS['Primitive/'+quant][:] - fISCE['Auxiliary/'+quant+'NS'][:]),label=rf\"$t=${f.attrs['t'][0]:.2e}\")\n",
    "    plt.title(quant+' - '+quant+'NS')\n",
    "    plt.legend()\n",
    "    plt.savefig(\"ComparePlots/PrimsAbsDiff_\"+quant+\".pdf\")\n",
    "    plt.show()\n",
    "    "
   ]
  },
  {
   "cell_type": "code",
   "execution_count": null,
   "metadata": {},
   "outputs": [],
   "source": [
    "for quant in ['T','a1']:\n",
    "    plt.figure()\n",
    "    for f in fs_IS:\n",
    "        #plt.plot(f['Domain/x'], f['Auxiliary/'+quant][:,nslice,nslice],label=rf\"$t=${f.attrs['t'][0]:.2e}\")\n",
    "        plt.plot(f['Domain/x'], f['Auxiliary/'+quant][:],label=rf\"$t=${f.attrs['t'][0]:.2e}\")\n",
    "    for f in fs_ISCE:\n",
    "        #plt.plot(f['Domain/x'], f['Auxiliary/'+quant][:,nslice,nslice],label=rf\"$t=${f.attrs['t'][0]:.2e}\")\n",
    "        plt.plot(f['Domain/x'], f['Auxiliary/'+quant][:],label=rf\"$t=${f.attrs['t'][0]:.2e}\")\n",
    "    plt.title(quant)\n",
    "    plt.legend()\n",
    "    plt.savefig(\"ComparePlots/Aux_\"+quant+\".pdf\")\n",
    "    plt.show()\n"
   ]
  },
  {
   "cell_type": "code",
   "execution_count": null,
   "metadata": {},
   "outputs": [],
   "source": []
  },
  {
   "cell_type": "code",
   "execution_count": null,
   "metadata": {},
   "outputs": [],
   "source": []
  },
  {
   "cell_type": "code",
   "execution_count": null,
   "metadata": {},
   "outputs": [],
   "source": []
  },
  {
   "cell_type": "code",
   "execution_count": null,
   "metadata": {},
   "outputs": [],
   "source": []
  },
  {
   "cell_type": "code",
   "execution_count": null,
   "metadata": {},
   "outputs": [],
   "source": []
  }
 ],
 "metadata": {
  "kernelspec": {
   "display_name": "Python 3",
   "language": "python",
   "name": "python3"
  },
  "language_info": {
   "codemirror_mode": {
    "name": "ipython",
    "version": 3
   },
   "file_extension": ".py",
   "mimetype": "text/x-python",
   "name": "python",
   "nbconvert_exporter": "python",
   "pygments_lexer": "ipython3",
   "version": "3.8.10"
  }
 },
 "nbformat": 4,
 "nbformat_minor": 4
}
