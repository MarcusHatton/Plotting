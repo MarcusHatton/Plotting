{
 "cells": [
  {
   "cell_type": "code",
   "execution_count": 1,
   "id": "d2624604",
   "metadata": {},
   "outputs": [],
   "source": [
    "# from matplotlib.animation import FuncAnimation\n",
    "# from animation import Anim\n",
    "# from matplotlib.interactivePlot import InteractivePlot as Plot\n",
    "from matplotlib import pyplot as plt\n",
    "from matplotlib import cm\n",
    "import numpy as np\n",
    "import h5py\n",
    "import glob\n",
    "import os"
   ]
  },
  {
   "cell_type": "code",
   "execution_count": 2,
   "id": "54e52356",
   "metadata": {},
   "outputs": [],
   "source": [
    "fs_IS = []\n",
    "n_files = 11\n",
    "for n in range(n_files):\n",
    "#     fs_IS.append(h5py.File(f'IS/KH/Ideal/cfl04/dp_1200x1200x0_{n}.hdf5', 'r'))\n",
    "    fs_IS.append(h5py.File(f'IS/KH/Ideal/cfl04/dp_400x400x0_{n}.hdf5', 'r'))\n",
    "fss = [fs_IS]"
   ]
  },
  {
   "cell_type": "code",
   "execution_count": 3,
   "id": "02058110",
   "metadata": {},
   "outputs": [],
   "source": [
    "# nx =fs_IS[0]['Domain'].attrs['nx']\n",
    "# NN = nx //2 \n",
    "# print(NN)"
   ]
  },
  {
   "cell_type": "code",
   "execution_count": 4,
   "id": "e0536bef",
   "metadata": {},
   "outputs": [
    {
     "data": {
      "text/plain": [
       "<KeysViewHDF5 ['Ng', 'Nx', 'Ny', 'Nz', 'dt', 'dx', 'dy', 'dz', 'endTime', 'nx', 'ny', 'nz', 'xmax', 'xmin', 'ymax', 'ymin', 'zmax', 'zmin']>"
      ]
     },
     "execution_count": 4,
     "metadata": {},
     "output_type": "execute_result"
    }
   ],
   "source": [
    "fs_IS[0]['Domain'].attrs.keys()"
   ]
  },
  {
   "cell_type": "code",
   "execution_count": 5,
   "id": "86ec9338",
   "metadata": {},
   "outputs": [],
   "source": [
    "def getFourierTrans(intPlot, u):\n",
    "    \"\"\"\n",
    "    Returns the 1D discrete fourier transform of the variable u along the x-direction\n",
    "    ready for the power spectrum method.\n",
    "    Parameters\n",
    "    ----------\n",
    "    intPlot : object\n",
    "        interactivePlot object containing all the simulation data, normally the final instance\n",
    "    u : ndarray\n",
    "        Two dimensional array of the variable we want the power spectrum of\n",
    "    Returns\n",
    "    -------\n",
    "    uhat : array (N,)\n",
    "        Fourier transform of u\n",
    "    \"\"\"\n",
    "    nx, ny = intPlot['Domain'].attrs['nx'][0], intPlot['Domain'].attrs['ny'][0]\n",
    "    NN = nx // 2\n",
    "    uhat = np.zeros((NN, ny), dtype=np.complex_)\n",
    "\n",
    "    for k in range(NN):\n",
    "        for y in range(ny):\n",
    "            # Sum over all x adding to uhat\n",
    "            for i in range(nx):\n",
    "                uhat[k, y] += u[i, y] * np.exp(-(2*np.pi*1j*k*i)/nx)\n",
    "\n",
    "    return uhat / nx"
   ]
  },
  {
   "cell_type": "code",
   "execution_count": 6,
   "id": "52b73e1f",
   "metadata": {},
   "outputs": [
    {
     "data": {
      "text/plain": [
       "array([[ 5.00000000e-01+0.00000000e+00j,  5.00000000e-01+0.00000000e+00j,\n",
       "         5.00000000e-01+0.00000000e+00j, ...,\n",
       "         5.00000000e-01+0.00000000e+00j,  5.00000000e-01+0.00000000e+00j,\n",
       "         5.00000000e-01+0.00000000e+00j],\n",
       "       [ 1.27675648e-17-8.66494376e-18j,  1.27675648e-17-8.66494376e-18j,\n",
       "         1.27675648e-17-8.66494376e-18j, ...,\n",
       "         1.27675648e-17-8.66494376e-18j,  1.27675648e-17-8.66494376e-18j,\n",
       "         1.27675648e-17-8.66494376e-18j],\n",
       "       [-2.33146835e-17+2.44856219e-17j, -2.33146835e-17+2.44856219e-17j,\n",
       "        -2.33146835e-17+2.44856219e-17j, ...,\n",
       "        -2.33146835e-17+2.44856219e-17j, -2.33146835e-17+2.44856219e-17j,\n",
       "        -2.33146835e-17+2.44856219e-17j],\n",
       "       ...,\n",
       "       [ 1.32643896e-15+6.34986855e-16j,  1.32643896e-15+6.34986855e-16j,\n",
       "         1.32643896e-15+6.34986855e-16j, ...,\n",
       "         1.32643896e-15+6.34986855e-16j,  1.32643896e-15+6.34986855e-16j,\n",
       "         1.32643896e-15+6.34986855e-16j],\n",
       "       [-6.93334279e-16-2.00846284e-16j, -6.93334279e-16-2.00846284e-16j,\n",
       "        -6.93334279e-16-2.00846284e-16j, ...,\n",
       "        -6.93334279e-16-2.00846284e-16j, -6.93334279e-16-2.00846284e-16j,\n",
       "        -6.93334279e-16-2.00846284e-16j],\n",
       "       [-3.61238817e-16-5.72337316e-16j, -3.61238817e-16-5.72337316e-16j,\n",
       "        -3.61238817e-16-5.72337316e-16j, ...,\n",
       "        -3.61238817e-16-5.72337316e-16j, -3.61238817e-16-5.72337316e-16j,\n",
       "        -3.61238817e-16-5.72337316e-16j]])"
      ]
     },
     "execution_count": 6,
     "metadata": {},
     "output_type": "execute_result"
    }
   ],
   "source": [
    "getFourierTrans(fs_IS[0], fs_IS[0]['Primitive/v1'])"
   ]
  },
  {
   "cell_type": "code",
   "execution_count": 7,
   "id": "44b18179",
   "metadata": {},
   "outputs": [],
   "source": [
    "def getPowerSpectrumSq(intPlot, u):\n",
    "    \"\"\"\n",
    "    Returns the integrated power spectrum of the variable u, up to the Nyquist frequency = nx/2\n",
    "    Parameters\n",
    "    ----------\n",
    "    intPlot : object\n",
    "        interactivePlot object containing all the simulation data, normally the final instance\n",
    "    u : ndarray\n",
    "        Two dimensional array of the variable we want the power spectrum of\n",
    "    \"\"\"\n",
    "    NN = intPlot['Domain'].attrs['nx'][0] // 2\n",
    "    dy = intPlot['Domain'].attrs['dy'][0]\n",
    "    uhat = getFourierTrans(intPlot, u)\n",
    "    P = np.zeros(NN)\n",
    "\n",
    "    for k in range(NN):\n",
    "        for j in range(intPlot['Domain'].attrs['ny'][0]):\n",
    "            P[k] += (np.absolute(uhat[k, j])**2) * dy\n",
    "\n",
    "    P = P / np.sum(P)\n",
    "    return P"
   ]
  },
  {
   "cell_type": "code",
   "execution_count": null,
   "id": "89be5928",
   "metadata": {},
   "outputs": [],
   "source": []
  },
  {
   "cell_type": "code",
   "execution_count": 8,
   "id": "ec1759c9",
   "metadata": {},
   "outputs": [],
   "source": [
    "def GetKESF(frame):\n",
    "    \"\"\"\n",
    "    Retrieves and computes the kinetic energy density for each frame in a single fluid animation.\n",
    "    Parameters\n",
    "    ----------\n",
    "    anim : object\n",
    "        animation class containing all user def variables\n",
    "    frame : Array\n",
    "        Frame from the animation class containing all user def variables at the time we want\n",
    "    \"\"\"\n",
    "    vx = frame['Primitive/v1'][:]\n",
    "    vy = frame['Primitive/v2'][:]\n",
    "    rho = frame['Primitive/rho']\n",
    "    vsq = vx**2 + vy**2\n",
    "    W = 1 / np.sqrt(1 - vsq)\n",
    "    KE = rho * W * (W-1)\n",
    "\n",
    "    return KE"
   ]
  },
  {
   "cell_type": "code",
   "execution_count": 9,
   "id": "7cd93025",
   "metadata": {},
   "outputs": [
    {
     "data": {
      "text/plain": [
       "array([[0.71453118, 0.71453118, 0.71453118, ..., 0.71453118, 0.71453118,\n",
       "        0.71453118],\n",
       "       [0.71453118, 0.71453118, 0.71453118, ..., 0.71453118, 0.71453118,\n",
       "        0.71453118],\n",
       "       [0.71453118, 0.71453118, 0.71453118, ..., 0.71453118, 0.71453118,\n",
       "        0.71453118],\n",
       "       ...,\n",
       "       [0.71453118, 0.71453118, 0.71453118, ..., 0.71453118, 0.71453118,\n",
       "        0.71453118],\n",
       "       [0.71453118, 0.71453118, 0.71453118, ..., 0.71453118, 0.71453118,\n",
       "        0.71453118],\n",
       "       [0.71453118, 0.71453118, 0.71453118, ..., 0.71453118, 0.71453118,\n",
       "        0.71453118]])"
      ]
     },
     "execution_count": 9,
     "metadata": {},
     "output_type": "execute_result"
    }
   ],
   "source": [
    "GetKESF(fs_IS[0])"
   ]
  },
  {
   "cell_type": "code",
   "execution_count": 10,
   "id": "a4299237",
   "metadata": {},
   "outputs": [
    {
     "ename": "IndentationError",
     "evalue": "unexpected indent (<ipython-input-10-ddb4e3161c30>, line 2)",
     "output_type": "error",
     "traceback": [
      "\u001b[1;36m  File \u001b[1;32m\"<ipython-input-10-ddb4e3161c30>\"\u001b[1;36m, line \u001b[1;32m2\u001b[0m\n\u001b[1;33m    Ideal = fs_IS[0]\u001b[0m\n\u001b[1;37m    ^\u001b[0m\n\u001b[1;31mIndentationError\u001b[0m\u001b[1;31m:\u001b[0m unexpected indent\n"
     ]
    }
   ],
   "source": [
    "#     if not 'Ideal' in locals():\n",
    "    Ideal = fs_IS[0]\n",
    "    idealT = Ideal.t.index(min(Ideal.t, key=lambda x : abs(x-3.0)))\n",
    "    Nideal = fs_IS[0]['Domain'].attrs['nx'][0] // 2\n",
    "    KESpecIdeal = getPowerSpectrumSq(Ideal, GetKESF(Ideal))\n",
    "\n",
    "  \n",
    "    ### Model Power Spectrum\n",
    "\n",
    "    fig, axs = plt.subplots(1, 1, sharex=True)\n",
    "    fig.set_size_inches(6,3)\n",
    "    fig.tight_layout()\n",
    "\n",
    "    # Kinetic energy density power\n",
    "    axs.loglog(np.arange(1, Nideal+1), np.arange(1, Nideal+1)*KESpecIdeal, label=r'$Single \\ Fluid \\ Ideal$')\n",
    "#     axs.loglog(np.arange(1, Nresistive+1), np.arange(1, Nresistive+1)*KESpecResistive, label=r'$Single \\ Fluid \\ Resistive$')\n",
    "#     axs.loglog(np.arange(1, NtwoFluid+1), np.arange(1, NtwoFluid+1)*KESpecTwoFluid, label=r'$Two \\ Fluid \\ Resistive$')\n",
    "    axs.set_ylabel(r\"$k|P_{T}(k)|^2$\", {'fontsize':'large'})\n",
    "    axs.set_xlabel(r'$k$')\n",
    "    axs.loglog([3, 94.868], [7*10**-2, 7*10**(-2 - 1.5*5/3)], 'k--')\n",
    "    axs.annotate(r'$k^{-5/3}$', xy=(40, 0.01), fontsize=15)\n",
    "    axs.set_xlim([1, Nideal])\n",
    "    axs.legend(loc='lower left')\n",
    "\n",
    "\n",
    "#     plt.savefig('Figures/KineticEnergyPowerSpectrum.eps', format='eps', dpi=1200, bbox_inches='tight')\n",
    "    plt.show()"
   ]
  }
 ],
 "metadata": {
  "kernelspec": {
   "display_name": "Python 3",
   "language": "python",
   "name": "python3"
  },
  "language_info": {
   "codemirror_mode": {
    "name": "ipython",
    "version": 3
   },
   "file_extension": ".py",
   "mimetype": "text/x-python",
   "name": "python",
   "nbconvert_exporter": "python",
   "pygments_lexer": "ipython3",
   "version": "3.8.10"
  }
 },
 "nbformat": 4,
 "nbformat_minor": 5
}
