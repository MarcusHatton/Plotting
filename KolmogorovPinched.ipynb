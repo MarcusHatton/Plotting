{
 "cells": [
  {
   "cell_type": "code",
   "execution_count": 8,
   "id": "7ac805ec",
   "metadata": {},
   "outputs": [
    {
     "ename": "SyntaxError",
     "evalue": "invalid syntax (<ipython-input-8-ab561c90d73c>, line 2)",
     "output_type": "error",
     "traceback": [
      "\u001b[1;36m  File \u001b[1;32m\"<ipython-input-8-ab561c90d73c>\"\u001b[1;36m, line \u001b[1;32m2\u001b[0m\n\u001b[1;33m    pip install -e git+https://github.com/bprinty/animation#egg=animation\u001b[0m\n\u001b[1;37m        ^\u001b[0m\n\u001b[1;31mSyntaxError\u001b[0m\u001b[1;31m:\u001b[0m invalid syntax\n"
     ]
    }
   ],
   "source": [
    "# pip install animation"
   ]
  },
  {
   "cell_type": "code",
   "execution_count": 2,
   "id": "2f1f18d6",
   "metadata": {},
   "outputs": [
    {
     "name": "stdout",
     "output_type": "stream",
     "text": [
      "Obtaining animation from git+https://github.com/bprinty/animation#egg=animation\n",
      "  Updating c:\\users\\marcu\\repositories\\git\\plotting\\src\\animation clone\n",
      "Requirement already satisfied: pychalk in d:\\users\\marcus\\anaconda3\\lib\\site-packages (from animation) (2.0.1)\n",
      "Requirement already satisfied: six>=1.11.0 in d:\\users\\marcus\\anaconda3\\lib\\site-packages (from pychalk->animation) (1.15.0)\n",
      "Installing collected packages: animation\n",
      "  Attempting uninstall: animation\n",
      "    Found existing installation: animation 0.0.7\n",
      "    Uninstalling animation-0.0.7:\n",
      "      Successfully uninstalled animation-0.0.7\n",
      "  Running setup.py develop for animation\n",
      "Successfully installed animation-0.0.7\n",
      "Note: you may need to restart the kernel to use updated packages.\n"
     ]
    },
    {
     "name": "stderr",
     "output_type": "stream",
     "text": [
      "WARNING: Ignoring invalid distribution -nimation (d:\\users\\marcus\\anaconda3\\lib\\site-packages)\n",
      "WARNING: Ignoring invalid distribution -nimation (d:\\users\\marcus\\anaconda3\\lib\\site-packages)\n",
      "  Running command git fetch -q --tags\n",
      "  Running command git reset --hard -q 3f2a1fa6b085bba5cf5e6d17790d1dc43fdb1550\n",
      "  WARNING: Ignoring invalid distribution -nimation (d:\\users\\marcus\\anaconda3\\lib\\site-packages)\n",
      "WARNING: Ignoring invalid distribution -nimation (d:\\users\\marcus\\anaconda3\\lib\\site-packages)\n",
      "    WARNING: Ignoring invalid distribution -nimation (d:\\users\\marcus\\anaconda3\\lib\\site-packages)\n",
      "WARNING: Ignoring invalid distribution -nimation (d:\\users\\marcus\\anaconda3\\lib\\site-packages)\n",
      "WARNING: Ignoring invalid distribution -nimation (d:\\users\\marcus\\anaconda3\\lib\\site-packages)\n",
      "WARNING: Ignoring invalid distribution -nimation (d:\\users\\marcus\\anaconda3\\lib\\site-packages)\n",
      "WARNING: Ignoring invalid distribution -nimation (d:\\users\\marcus\\anaconda3\\lib\\site-packages)\n",
      "WARNING: Ignoring invalid distribution -nimation (d:\\users\\marcus\\anaconda3\\lib\\site-packages)\n"
     ]
    }
   ],
   "source": [
    "# pip install -e git+https://github.com/bprinty/animation#egg=animation"
   ]
  },
  {
   "cell_type": "code",
   "execution_count": 5,
   "id": "c82e44f9",
   "metadata": {},
   "outputs": [
    {
     "ename": "FileNotFoundError",
     "evalue": "[Errno 2] No such file or directory: 'animation/__init__.py'",
     "output_type": "error",
     "traceback": [
      "\u001b[1;31m---------------------------------------------------------------------------\u001b[0m",
      "\u001b[1;31mFileNotFoundError\u001b[0m                         Traceback (most recent call last)",
      "\u001b[1;32mD:\\Users\\marcus\\anaconda3\\Lib\\site-packages\\animation\\setup.py\u001b[0m in \u001b[0;36m<module>\u001b[1;34m\u001b[0m\n\u001b[0;32m     26\u001b[0m \u001b[1;33m\u001b[0m\u001b[0m\n\u001b[0;32m     27\u001b[0m \u001b[1;33m\u001b[0m\u001b[0m\n\u001b[1;32m---> 28\u001b[1;33m \u001b[0mconfig\u001b[0m \u001b[1;33m=\u001b[0m \u001b[0mConfig\u001b[0m\u001b[1;33m(\u001b[0m\u001b[1;34m'animation/__init__.py'\u001b[0m\u001b[1;33m)\u001b[0m\u001b[1;33m\u001b[0m\u001b[1;33m\u001b[0m\u001b[0m\n\u001b[0m\u001b[0;32m     29\u001b[0m \u001b[1;33m\u001b[0m\u001b[0m\n\u001b[0;32m     30\u001b[0m \u001b[1;33m\u001b[0m\u001b[0m\n",
      "\u001b[1;32mD:\\Users\\marcus\\anaconda3\\Lib\\site-packages\\animation\\setup.py\u001b[0m in \u001b[0;36m__init__\u001b[1;34m(self, fi)\u001b[0m\n\u001b[0;32m     20\u001b[0m \u001b[1;32mclass\u001b[0m \u001b[0mConfig\u001b[0m\u001b[1;33m:\u001b[0m\u001b[1;33m\u001b[0m\u001b[1;33m\u001b[0m\u001b[0m\n\u001b[0;32m     21\u001b[0m     \u001b[1;32mdef\u001b[0m \u001b[0m__init__\u001b[0m\u001b[1;33m(\u001b[0m\u001b[0mself\u001b[0m\u001b[1;33m,\u001b[0m \u001b[0mfi\u001b[0m\u001b[1;33m)\u001b[0m\u001b[1;33m:\u001b[0m\u001b[1;33m\u001b[0m\u001b[1;33m\u001b[0m\u001b[0m\n\u001b[1;32m---> 22\u001b[1;33m         \u001b[1;32mwith\u001b[0m \u001b[0mopen\u001b[0m\u001b[1;33m(\u001b[0m\u001b[0mfi\u001b[0m\u001b[1;33m)\u001b[0m \u001b[1;32mas\u001b[0m \u001b[0mmeta\u001b[0m\u001b[1;33m:\u001b[0m\u001b[1;33m\u001b[0m\u001b[1;33m\u001b[0m\u001b[0m\n\u001b[0m\u001b[0;32m     23\u001b[0m             \u001b[1;32mfor\u001b[0m \u001b[0mm\u001b[0m \u001b[1;32min\u001b[0m \u001b[0mre\u001b[0m\u001b[1;33m.\u001b[0m\u001b[0mfindall\u001b[0m\u001b[1;33m(\u001b[0m\u001b[1;34mr'(__[a-z]+__).*=.*[\\'\"](.+)[\\'\"]'\u001b[0m\u001b[1;33m,\u001b[0m \u001b[0mmeta\u001b[0m\u001b[1;33m.\u001b[0m\u001b[0mread\u001b[0m\u001b[1;33m(\u001b[0m\u001b[1;33m)\u001b[0m\u001b[1;33m)\u001b[0m\u001b[1;33m:\u001b[0m\u001b[1;33m\u001b[0m\u001b[1;33m\u001b[0m\u001b[0m\n\u001b[0;32m     24\u001b[0m                 \u001b[0msetattr\u001b[0m\u001b[1;33m(\u001b[0m\u001b[0mself\u001b[0m\u001b[1;33m,\u001b[0m \u001b[0mm\u001b[0m\u001b[1;33m[\u001b[0m\u001b[1;36m0\u001b[0m\u001b[1;33m]\u001b[0m\u001b[1;33m,\u001b[0m \u001b[0mm\u001b[0m\u001b[1;33m[\u001b[0m\u001b[1;36m1\u001b[0m\u001b[1;33m]\u001b[0m\u001b[1;33m)\u001b[0m\u001b[1;33m\u001b[0m\u001b[1;33m\u001b[0m\u001b[0m\n",
      "\u001b[1;31mFileNotFoundError\u001b[0m: [Errno 2] No such file or directory: 'animation/__init__.py'"
     ]
    }
   ],
   "source": [
    "%run D:\\Users\\marcus\\anaconda3\\Lib\\site-packages\\animation\\setup.py"
   ]
  },
  {
   "cell_type": "code",
   "execution_count": 1,
   "id": "0d6eb951",
   "metadata": {},
   "outputs": [
    {
     "ename": "ImportError",
     "evalue": "cannot import name 'Anim' from 'animation' (c:\\users\\marcu\\repositories\\git\\plotting\\src\\animation\\animation\\__init__.py)",
     "output_type": "error",
     "traceback": [
      "\u001b[1;31m---------------------------------------------------------------------------\u001b[0m",
      "\u001b[1;31mImportError\u001b[0m                               Traceback (most recent call last)",
      "\u001b[1;32m<ipython-input-1-8754832ca850>\u001b[0m in \u001b[0;36m<module>\u001b[1;34m\u001b[0m\n\u001b[0;32m      1\u001b[0m \u001b[1;31m# from matplotlib.animation import FuncAnimation\u001b[0m\u001b[1;33m\u001b[0m\u001b[1;33m\u001b[0m\u001b[1;33m\u001b[0m\u001b[0m\n\u001b[1;32m----> 2\u001b[1;33m \u001b[1;32mfrom\u001b[0m \u001b[0manimation\u001b[0m \u001b[1;32mimport\u001b[0m \u001b[0mAnim\u001b[0m\u001b[1;33m\u001b[0m\u001b[1;33m\u001b[0m\u001b[0m\n\u001b[0m\u001b[0;32m      3\u001b[0m \u001b[1;32mfrom\u001b[0m \u001b[0minteractivePlot\u001b[0m \u001b[1;32mimport\u001b[0m \u001b[0mInteractivePlot\u001b[0m \u001b[1;32mas\u001b[0m \u001b[0mPlot\u001b[0m\u001b[1;33m\u001b[0m\u001b[1;33m\u001b[0m\u001b[0m\n\u001b[0;32m      4\u001b[0m \u001b[1;32mfrom\u001b[0m \u001b[0mmatplotlib\u001b[0m \u001b[1;32mimport\u001b[0m \u001b[0mpyplot\u001b[0m \u001b[1;32mas\u001b[0m \u001b[0mplt\u001b[0m\u001b[1;33m\u001b[0m\u001b[1;33m\u001b[0m\u001b[0m\n\u001b[0;32m      5\u001b[0m \u001b[1;32mfrom\u001b[0m \u001b[0mmatplotlib\u001b[0m \u001b[1;32mimport\u001b[0m \u001b[0mcm\u001b[0m\u001b[1;33m\u001b[0m\u001b[1;33m\u001b[0m\u001b[0m\n",
      "\u001b[1;31mImportError\u001b[0m: cannot import name 'Anim' from 'animation' (c:\\users\\marcu\\repositories\\git\\plotting\\src\\animation\\animation\\__init__.py)"
     ]
    }
   ],
   "source": [
    "# from matplotlib.animation import FuncAnimation\n",
    "from animation import Anim\n",
    "from interactivePlot import InteractivePlot as Plot\n",
    "from matplotlib import pyplot as plt\n",
    "from matplotlib import cm\n",
    "import numpy as np"
   ]
  },
  {
   "cell_type": "code",
   "execution_count": 3,
   "id": "0f678d42",
   "metadata": {},
   "outputs": [],
   "source": [
    "def getFourierTrans(intPlot, u):\n",
    "    \"\"\"\n",
    "    Returns the 1D discrete fourier transform of the variable u along the x-direction\n",
    "    ready for the power spectrum method.\n",
    "    Parameters\n",
    "    ----------\n",
    "    intPlot : object\n",
    "        interactivePlot object containing all the simulation data, normally the final instance\n",
    "    u : ndarray\n",
    "        Two dimensional array of the variable we want the power spectrum of\n",
    "    Returns\n",
    "    -------\n",
    "    uhat : array (N,)\n",
    "        Fourier transform of u\n",
    "    \"\"\"\n",
    "    nx, ny = intPlot.c['nx'], intPlot.c['ny']\n",
    "    NN = nx // 2\n",
    "    uhat = np.zeros((NN, ny), dtype=np.complex_)\n",
    "\n",
    "    for k in range(NN):\n",
    "        for y in range(ny):\n",
    "            # Sum over all x adding to uhat\n",
    "            for i in range(nx):\n",
    "                uhat[k, y] += u[i, y] * np.exp(-(2*np.pi*1j*k*i)/nx)\n",
    "\n",
    "    return uhat / nx"
   ]
  },
  {
   "cell_type": "code",
   "execution_count": 3,
   "id": "e426b4fa",
   "metadata": {},
   "outputs": [],
   "source": [
    "def getPowerSpectrumSq(intPlot, u):\n",
    "    \"\"\"\n",
    "    Returns the integrated power spectrum of the variable u, up to the Nyquist frequency = nx/2\n",
    "    Parameters\n",
    "    ----------\n",
    "    intPlot : object\n",
    "        interactivePlot object containing all the simulation data, normally the final instance\n",
    "    u : ndarray\n",
    "        Two dimensional array of the variable we want the power spectrum of\n",
    "    \"\"\"\n",
    "    NN = intPlot.c['nx'] // 2\n",
    "    dy = intPlot.c['dy']\n",
    "    uhat = getFourierTrans(intPlot, u)\n",
    "    P = np.zeros(NN)\n",
    "\n",
    "    for k in range(NN):\n",
    "        for j in range(intPlot.c['ny']):\n",
    "            P[k] += (np.absolute(uhat[k, j])**2) * dy\n",
    "\n",
    "    P = P / np.sum(P)\n",
    "    return P"
   ]
  },
  {
   "cell_type": "code",
   "execution_count": null,
   "id": "c00d1b61",
   "metadata": {},
   "outputs": [],
   "source": [
    "def GetKESF(anim, frame):\n",
    "    \"\"\"\n",
    "    Retrieves and computes the kinetic energy density for each frame in a single fluid animation.\n",
    "    Parameters\n",
    "    ----------\n",
    "    anim : object\n",
    "        animation class containing all user def variables\n",
    "    frame : Array\n",
    "        Frame from the animation class containing all user def variables at the time we want\n",
    "    \"\"\"\n",
    "    vx = frame[anim.variables.index(\"vx\\n\"), 4:-4, 4:-4, 0]\n",
    "    vy = frame[anim.variables.index(\"vy\\n\"), 4:-4, 4:-4, 0]\n",
    "    rho = frame[anim.variables.index(\"rho\\n\"), 4:-4, 4:-4, 0]\n",
    "    vsq = vx**2 + vy**2\n",
    "    W = 1 / np.sqrt(1 - vsq)\n",
    "    KE = rho * W * (W-1)\n",
    "\n",
    "    return KE"
   ]
  },
  {
   "cell_type": "code",
   "execution_count": 4,
   "id": "ed81f1f5",
   "metadata": {},
   "outputs": [],
   "source": [
    "def GetKETF(anim, frame):\n",
    "    \"\"\"\n",
    "    Retrieves and computes the kinetic energy density for each frame in a two fluid animation.\n",
    "    Parameters\n",
    "    ----------\n",
    "    anim : object\n",
    "        animation class containing all user def variables\n",
    "    frame : Array\n",
    "        Frame from the animation class containing all user def variables at the time we want\n",
    "    \"\"\"\n",
    "    vx1 = frame[anim.variables.index(\"vx1\\n\"), 4:-4, 4:-4, 0]\n",
    "    vy1 = frame[anim.variables.index(\"vy1\\n\"), 4:-4, 4:-4, 0]\n",
    "    vx2 = frame[anim.variables.index(\"vx2\\n\"), 4:-4, 4:-4, 0]\n",
    "    vy2 = frame[anim.variables.index(\"vy2\\n\"), 4:-4, 4:-4, 0]\n",
    "    rho1 = frame[anim.variables.index(\"rho1\\n\"), 4:-4, 4:-4, 0]\n",
    "    rho2 = frame[anim.variables.index(\"rho2\\n\"), 4:-4, 4:-4, 0]\n",
    "    rho = rho1 + rho2\n",
    "    vx = (vx1 + vx2) / 2\n",
    "    vy = (vy1 + vy2) / 2\n",
    "    vsq = vx**2 + vy**2\n",
    "    W = 1 / np.sqrt(1 - vsq)\n",
    "    KE = rho * W * (W-1)\n",
    "\n",
    "    return KE"
   ]
  },
  {
   "cell_type": "code",
   "execution_count": 5,
   "id": "add10a33",
   "metadata": {},
   "outputs": [
    {
     "ename": "NameError",
     "evalue": "name 'Anim' is not defined",
     "output_type": "error",
     "traceback": [
      "\u001b[1;31m---------------------------------------------------------------------------\u001b[0m",
      "\u001b[1;31mNameError\u001b[0m                                 Traceback (most recent call last)",
      "\u001b[1;32m<ipython-input-5-5e094a44268a>\u001b[0m in \u001b[0;36m<module>\u001b[1;34m\u001b[0m\n\u001b[0;32m      4\u001b[0m \u001b[1;33m\u001b[0m\u001b[0m\n\u001b[0;32m      5\u001b[0m     \u001b[1;32mif\u001b[0m \u001b[1;32mnot\u001b[0m \u001b[1;34m'Ideal'\u001b[0m \u001b[1;32min\u001b[0m \u001b[0mlocals\u001b[0m\u001b[1;33m(\u001b[0m\u001b[1;33m)\u001b[0m\u001b[1;33m:\u001b[0m\u001b[1;33m\u001b[0m\u001b[1;33m\u001b[0m\u001b[0m\n\u001b[1;32m----> 6\u001b[1;33m         \u001b[0mIdeal\u001b[0m \u001b[1;33m=\u001b[0m \u001b[0mAnim\u001b[0m\u001b[1;33m(\u001b[0m\u001b[1;34m'Ideal/HighRes/Data/TimeSeries/UserDef/'\u001b[0m\u001b[1;33m)\u001b[0m\u001b[1;33m\u001b[0m\u001b[1;33m\u001b[0m\u001b[0m\n\u001b[0m\u001b[0;32m      7\u001b[0m         \u001b[0midealT\u001b[0m \u001b[1;33m=\u001b[0m \u001b[0mIdeal\u001b[0m\u001b[1;33m.\u001b[0m\u001b[0mt\u001b[0m\u001b[1;33m.\u001b[0m\u001b[0mindex\u001b[0m\u001b[1;33m(\u001b[0m\u001b[0mmin\u001b[0m\u001b[1;33m(\u001b[0m\u001b[0mIdeal\u001b[0m\u001b[1;33m.\u001b[0m\u001b[0mt\u001b[0m\u001b[1;33m,\u001b[0m \u001b[0mkey\u001b[0m\u001b[1;33m=\u001b[0m\u001b[1;32mlambda\u001b[0m \u001b[0mx\u001b[0m \u001b[1;33m:\u001b[0m \u001b[0mabs\u001b[0m\u001b[1;33m(\u001b[0m\u001b[0mx\u001b[0m\u001b[1;33m-\u001b[0m\u001b[1;36m3.0\u001b[0m\u001b[1;33m)\u001b[0m\u001b[1;33m)\u001b[0m\u001b[1;33m)\u001b[0m\u001b[1;33m\u001b[0m\u001b[1;33m\u001b[0m\u001b[0m\n\u001b[0;32m      8\u001b[0m         \u001b[0mNideal\u001b[0m \u001b[1;33m=\u001b[0m \u001b[0mIdeal\u001b[0m\u001b[1;33m.\u001b[0m\u001b[0mfinal\u001b[0m\u001b[1;33m.\u001b[0m\u001b[0mc\u001b[0m\u001b[1;33m[\u001b[0m\u001b[1;34m'nx'\u001b[0m\u001b[1;33m]\u001b[0m \u001b[1;33m//\u001b[0m \u001b[1;36m2\u001b[0m\u001b[1;33m\u001b[0m\u001b[1;33m\u001b[0m\u001b[0m\n",
      "\u001b[1;31mNameError\u001b[0m: name 'Anim' is not defined"
     ]
    }
   ],
   "source": [
    "if __name__ == '__main__':\n",
    "\n",
    "    #  Model Comparison\n",
    "\n",
    "    if not 'Ideal' in locals():\n",
    "        Ideal = Anim('Ideal/HighRes/Data/TimeSeries/UserDef/')\n",
    "        idealT = Ideal.t.index(min(Ideal.t, key=lambda x : abs(x-3.0)))\n",
    "        Nideal = Ideal.final.c['nx'] // 2\n",
    "        KESpecIdeal = getPowerSpectrumSq(Ideal.final, GetKESF(Ideal, Ideal.frame[idealT]))\n",
    "\n",
    "#     if not 'Resistive' in locals():\n",
    "#         Resistive = Anim('Resistive/Sigma10/HighRes/Data/TimeSeries/UserDef/')\n",
    "#         resistiveT = Resistive.t.index(min(Resistive.t, key=lambda x : abs(x-3.0)))\n",
    "#         Nresistive = Resistive.final.c['nx'] // 2\n",
    "#         KESpecResistive = getPowerSpectrumSq(Resistive.final, GetKESF(Resistive, Resistive.frame[resistiveT]))\n",
    "\n",
    "#     if not 'TwoFluid' in locals():\n",
    "#         TwoFluid = Anim('TwoFluid/Sigma10Mu100/HighRes/Data/TimeSeries/UserDef/')\n",
    "#         twoFluidT = TwoFluid.t.index(min(TwoFluid.t, key=lambda x : abs(x-3.0)))\n",
    "#         NtwoFluid = TwoFluid.final.c['nx'] // 2\n",
    "#         KESpecTwoFluid = getPowerSpectrumSq(TwoFluid.final, GetKETF(TwoFluid, TwoFluid.frame[twoFluidT]))\n",
    "\n",
    "\n",
    "  ### Model Power Spectrum\n",
    "\n",
    "    fig, axs = plt.subplots(1, 1, sharex=True)\n",
    "    fig.set_size_inches(6,3)\n",
    "    fig.tight_layout()\n",
    "\n",
    "    # Kinetic energy density power\n",
    "    axs.loglog(np.arange(1, Nideal+1), np.arange(1, Nideal+1)*KESpecIdeal, label=r'$Single \\ Fluid \\ Ideal$')\n",
    "    axs.loglog(np.arange(1, Nresistive+1), np.arange(1, Nresistive+1)*KESpecResistive, label=r'$Single \\ Fluid \\ Resistive$')\n",
    "    axs.loglog(np.arange(1, NtwoFluid+1), np.arange(1, NtwoFluid+1)*KESpecTwoFluid, label=r'$Two \\ Fluid \\ Resistive$')\n",
    "    axs.set_ylabel(r\"$k|P_{T}(k)|^2$\", {'fontsize':'large'})\n",
    "    axs.set_xlabel(r'$k$')\n",
    "    axs.loglog([3, 94.868], [7*10**-2, 7*10**(-2 - 1.5*5/3)], 'k--')\n",
    "    axs.annotate(r'$k^{-5/3}$', xy=(40, 0.01), fontsize=15)\n",
    "    axs.set_xlim([1, Nideal])\n",
    "    axs.legend(loc='lower left')\n",
    "\n",
    "\n",
    "#     plt.savefig('Figures/KineticEnergyPowerSpectrum.eps', format='eps', dpi=1200, bbox_inches='tight')\n",
    "    plt.show()"
   ]
  },
  {
   "cell_type": "code",
   "execution_count": null,
   "id": "574a3d10",
   "metadata": {},
   "outputs": [],
   "source": []
  }
 ],
 "metadata": {
  "kernelspec": {
   "display_name": "Python 3",
   "language": "python",
   "name": "python3"
  },
  "language_info": {
   "codemirror_mode": {
    "name": "ipython",
    "version": 3
   },
   "file_extension": ".py",
   "mimetype": "text/x-python",
   "name": "python",
   "nbconvert_exporter": "python",
   "pygments_lexer": "ipython3",
   "version": "3.8.8"
  }
 },
 "nbformat": 4,
 "nbformat_minor": 5
}
